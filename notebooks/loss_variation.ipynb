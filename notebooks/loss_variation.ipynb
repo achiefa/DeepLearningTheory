{
 "cells": [
  {
   "cell_type": "code",
   "execution_count": null,
   "id": "e83a54db",
   "metadata": {},
   "outputs": [],
   "source": [
    "from yadlt.context import FitContext\n",
    "from yadlt.distribution import Distribution\n",
    "\n",
    "import numpy as np"
   ]
  },
  {
   "cell_type": "code",
   "execution_count": null,
   "id": "d5509460",
   "metadata": {},
   "outputs": [],
   "source": [
    "import logging\n",
    "from yadlt.log import setup_logger\n",
    "\n",
    "# Set up the root logger to capture all logs in jupyter notebook\n",
    "logger = setup_logger()\n",
    "\n",
    "# If you want to see all messages, including DEBUG:\n",
    "logger.setLevel(logging.INFO)"
   ]
  },
  {
   "cell_type": "code",
   "execution_count": null,
   "id": "7cc37f68",
   "metadata": {},
   "outputs": [],
   "source": [
    "def collect_loss_histories(context):\n",
    "  nreplicas = context.get_all_properties()['nreplicas']\n",
    "  epochs = context.load_epoch_history(0)\n",
    "  loss_dis = Distribution(\"Loss ensemble by epoch\", size = nreplicas, shape=(epochs.size, ))\n",
    "  for rep in range(nreplicas):\n",
    "    loss = context.load_loss_history(rep)\n",
    "    # Check if negative loss values are present\n",
    "    if np.any(loss < 0):\n",
    "        print(f\"Warning: Negative loss values found in replica {rep}.\")\n",
    "    loss_dis.add(loss)\n",
    "  return loss_dis, epochs"
   ]
  },
  {
   "cell_type": "code",
   "execution_count": null,
   "id": "b4600ec6",
   "metadata": {},
   "outputs": [],
   "source": [
    "context = FitContext(\"250911-06-L2-nnpdf-like\")"
   ]
  },
  {
   "cell_type": "code",
   "execution_count": null,
   "id": "38e52b34",
   "metadata": {},
   "outputs": [],
   "source": [
    "loss, epochs = collect_loss_histories(context)"
   ]
  },
  {
   "cell_type": "code",
   "execution_count": null,
   "id": "d3f7bf07",
   "metadata": {},
   "outputs": [],
   "source": [
    "from yadlt.distribution import combine_distributions\n",
    "eigval_t = combine_distributions(context.eigvals_time)\n",
    "eigval_1 = eigval_t.slice((slice(None), 0))\n",
    "eigval_2 = eigval_t.slice((slice(None), 1))\n",
    "eigval_3 = eigval_t.slice((slice(None), 2))\n",
    "eigval_4 = eigval_t.slice((slice(None), 3))\n",
    "eigval_5 = eigval_t.slice((slice(None), 4))"
   ]
  },
  {
   "cell_type": "code",
   "execution_count": null,
   "id": "28b51c4f",
   "metadata": {},
   "outputs": [],
   "source": [
    "from matplotlib import pyplot as plt\n",
    "from yadlt.plotting.plotting import TICKSIZE, LEGENDSIZE, FONTSIZE\n",
    "\n",
    "fig, ax1 = plt.subplots(figsize=(8, 5))\n",
    "rep = 4\n",
    "\n",
    "# Plot first curve on left y-axis\n",
    "color1 = 'tab:blue'\n",
    "ax1.set_xlabel(r\"$\\rm{Epochs}$\", fontsize=FONTSIZE)\n",
    "ax1.set_ylabel(r'$\\textrm{Loss Function}$', fontsize=FONTSIZE)\n",
    "line1 = ax1.plot(epochs, loss[rep], color=color1, linewidth=2, label=r\"$\\textrm{Loss Function}$\")\n",
    "ax1.tick_params(axis='y', labelsize=TICKSIZE)\n",
    "ax1.axvspan(1.5e3, 5e3, alpha=0.2, color='grey')\n",
    "\n",
    "# Create second y-axis that shares the same x-axis\n",
    "ax2 = ax1.twinx()\n",
    "\n",
    "# Plot second curve on right y-axis\n",
    "ax2.set_ylabel(r\"$\\lambda$\", fontsize=FONTSIZE)\n",
    "line2 = ax2.plot(epochs, eigval_1[rep], color=\"tab:red\", linewidth=2, label=r\"$\\lambda_1$\")\n",
    "line2 = ax2.plot(epochs, eigval_2[rep], color=\"tab:green\", linewidth=2, label=r\"$\\lambda_2$\")\n",
    "line2 = ax2.plot(epochs, eigval_3[rep], color=\"tab:orange\", linewidth=2, label=r\"$\\lambda_3$\")\n",
    "line2 = ax2.plot(epochs, eigval_4[rep], color=\"tab:purple\", linewidth=2, label=r\"$\\lambda_4$\")\n",
    "line2 = ax2.plot(epochs, eigval_5[rep], color=\"tab:brown\", linewidth=2, label=r\"$\\lambda_5$\")\n",
    "ax2.tick_params(axis='y', labelsize=TICKSIZE)\n",
    "\n",
    "# Add title and legend\n",
    "plt.title(r\"$\\textrm{Loss Function and Top 5 NTK Eigenvalues vs Epochs (Replica %d)}$\" % rep)\n",
    "\n",
    "# Combine legends from both axes\n",
    "lines1, labels1 = ax1.get_legend_handles_labels()\n",
    "lines2, labels2 = ax2.get_legend_handles_labels()\n",
    "\n",
    "ax2.legend(lines1 + lines2, labels1 + labels2, loc='center left', fontsize=12, ncol=2)\n",
    "\n",
    "ax1.set_xscale('log')\n",
    "ax1.set_yscale('log')\n",
    "ax2.set_yscale('log')\n",
    "ax1.set_ylim(4.5e2, 2e3)\n",
    "\n",
    "# Adjust layout and show\n",
    "plt.tight_layout()\n",
    "plt.grid(True, alpha=0.3)\n",
    "plt.savefig(\"loss_and_eigvals_vs_epochs_replica_%d.pdf\" % rep, bbox_inches='tight')\n",
    "plt.show()"
   ]
  }
 ],
 "metadata": {
  "kernelspec": {
   "display_name": "dlt",
   "language": "python",
   "name": "python3"
  },
  "language_info": {
   "codemirror_mode": {
    "name": "ipython",
    "version": 3
   },
   "file_extension": ".py",
   "mimetype": "text/x-python",
   "name": "python",
   "nbconvert_exporter": "python",
   "pygments_lexer": "ipython3",
   "version": "3.10.17"
  }
 },
 "nbformat": 4,
 "nbformat_minor": 5
}
