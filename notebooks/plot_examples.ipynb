{
 "cells": [
  {
   "cell_type": "code",
   "execution_count": 1,
   "id": "05b7b410",
   "metadata": {},
   "outputs": [],
   "source": [
    "from yadlt.context import FitContext\n",
    "from yadlt.plotting.plot_evolution_pdf import (\n",
    "    plot_evolution_from_initialisation,\n",
    "    plot_evolution_from_ref,\n",
    "    plot_evolution_vs_trained,\n",
    "    plot_Q_directions\n",
    ")\n",
    "from yadlt.plotting.plot_u_v_contribution import (\n",
    "    plot_u_v_contributions\n",
    ")\n",
    "from yadlt.plotting.plot_eigvals_single_plot import (\n",
    "  plot_eigvals_single_plot\n",
    ")\n",
    "from yadlt.plotting.plot_alignment import (\n",
    "  plot_theta_m_alignment,\n",
    "  produce_alignment_plot\n",
    ")\n",
    "from yadlt.plotting.plot_expval_u_f0 import (\n",
    "    plot_expval_u_f0,\n",
    ")\n",
    "from yadlt.plotting.plot_covariance import (\n",
    "    plot_covariance_decomposition,\n",
    "    plot_diag_error_decomposition\n",
    ")\n",
    "\n",
    "import logging\n",
    "from yadlt.log import setup_logger\n",
    "\n",
    "# Set up the root logger to capture all logs in jupyter notebook\n",
    "logger = setup_logger()\n",
    "\n",
    "# If you want to see all messages, including DEBUG:\n",
    "logger.setLevel(logging.INFO)"
   ]
  },
  {
   "cell_type": "code",
   "execution_count": 2,
   "id": "fed26d0d",
   "metadata": {},
   "outputs": [
    {
     "data": {
      "text/html": [
       "<div><span style=\"color: green; font-weight: bold\">[INFO]: </span><span style=\"color: var(currentColor, white)\">Initializing FitContext for fit: 250713-01-L0-nnpdf-like</span></div>"
      ],
      "text/plain": [
       "<IPython.core.display.HTML object>"
      ]
     },
     "metadata": {},
     "output_type": "display_data"
    },
    {
     "data": {
      "text/html": [
       "<div><span style=\"color: green; font-weight: bold\">[INFO]: </span><span style=\"color: var(currentColor, white)\">FitContext initialized for fit: 250713-01-L0-nnpdf-like</span></div>"
      ],
      "text/plain": [
       "<IPython.core.display.HTML object>"
      ]
     },
     "metadata": {},
     "output_type": "display_data"
    },
    {
     "data": {
      "text/html": [
       "<div><span style=\"color: green; font-weight: bold\">[INFO]: </span><span style=\"color: var(currentColor, white)\">Metadata loaded from file</span></div>"
      ],
      "text/plain": [
       "<IPython.core.display.HTML object>"
      ]
     },
     "metadata": {},
     "output_type": "display_data"
    },
    {
     "data": {
      "text/html": [
       "<div><span style=\"color: green; font-weight: bold\">[INFO]: </span><span style=\"color: var(currentColor, white)\">Loading serialized data from /Users/s2569857/Codes/DeepLearningTheory/Results/fits/250713-01-L0-nnpdf-like/serialization...</span></div>"
      ],
      "text/plain": [
       "<IPython.core.display.HTML object>"
      ]
     },
     "metadata": {},
     "output_type": "display_data"
    }
   ],
   "source": [
    "context = FitContext('250713-01-L0-nnpdf-like')"
   ]
  },
  {
   "cell_type": "markdown",
   "id": "4d517265",
   "metadata": {},
   "source": [
    "# Plot evolution divided by x"
   ]
  },
  {
   "cell_type": "code",
   "execution_count": null,
   "id": "d729264d",
   "metadata": {},
   "outputs": [],
   "source": [
    "plot_evolution_from_initialisation(\n",
    "    context,\n",
    "    ref_epoch=20000,\n",
    "    epochs=[50000],\n",
    "    show_true=True,\n",
    "    ax_specs=[{\"set_xscale\": \"linear\", \"set_ylim\": (-0.5,3), \"set_xlim\": (1.e-3,1)}, {}],\n",
    "    colors=[\"C0\", \"C1\"],\n",
    "    save_fig=False,\n",
    "    divide_by_x=True,\n",
    "    ratio_label=r\"$\\textrm{Ratio to }$\" + \"\\n\" + r\"$\\rm{True}$\"\n",
    ")"
   ]
  },
  {
   "cell_type": "markdown",
   "id": "91c67ab8",
   "metadata": {},
   "source": [
    "# Plot $\\mathbb{E}[U(t) f_0]$"
   ]
  },
  {
   "cell_type": "code",
   "execution_count": null,
   "id": "4f7e9464",
   "metadata": {},
   "outputs": [],
   "source": [
    "plot_expval_u_f0(context, ref_epoch=20000, epoch=20000, seed=21431213, save_fig=False)"
   ]
  },
  {
   "cell_type": "markdown",
   "id": "f508c86a",
   "metadata": {},
   "source": [
    "# Alignment of the NTK with the input function $f^{\\rm (in)}$"
   ]
  },
  {
   "cell_type": "code",
   "execution_count": null,
   "id": "148e1565",
   "metadata": {},
   "outputs": [],
   "source": [
    "produce_alignment_plot(context, [0, 1, 2, 3, 4,])\n",
    "produce_alignment_plot(context, [5, 6, 7, 8, 9])"
   ]
  },
  {
   "cell_type": "markdown",
   "id": "733172f7",
   "metadata": {},
   "source": [
    "# Plot covariance decomposition"
   ]
  },
  {
   "cell_type": "code",
   "execution_count": null,
   "id": "35112e0d",
   "metadata": {},
   "outputs": [],
   "source": [
    "from yadlt.plotting.plot_covariance import plot_covariance_decomposition_by_epoch\n",
    "plot_covariance_decomposition_by_epoch(context, ref_epoch=20000, epoch=0, seed=343131, save_fig=False, text_dict={'x': -0.5, 'y': 0.5, 's': rf\"$T = {0}$\"})\n",
    "plot_covariance_decomposition_by_epoch(context, ref_epoch=20000, epoch=1, seed=343131, save_fig=False, text_dict={'x': -0.5, 'y': 0.5, 's': rf\"$T = {1}$\"})\n",
    "plot_covariance_decomposition_by_epoch(context, ref_epoch=20000, epoch=100, seed=343131, save_fig=False, text_dict={'x': -0.5, 'y': 0.5, 's': rf\"$T = {100}$\"})"
   ]
  },
  {
   "cell_type": "markdown",
   "id": "0533b171",
   "metadata": {},
   "source": [
    "# Plot the contributions of the $U$ and $V$ operators"
   ]
  },
  {
   "cell_type": "code",
   "execution_count": null,
   "id": "7030c24b",
   "metadata": {},
   "outputs": [],
   "source": [
    "plot_u_v_contributions(\n",
    "    context,\n",
    "    ref_epoch=1000,\n",
    "    ev_epoch=1,\n",
    "    seed=213123123123,\n",
    "    save_fig=False)"
   ]
  },
  {
   "cell_type": "markdown",
   "id": "d78ff57b",
   "metadata": {},
   "source": [
    "# Plot evolution of the PDF from reference epoch"
   ]
  },
  {
   "cell_type": "code",
   "execution_count": null,
   "id": "361983d9",
   "metadata": {},
   "outputs": [],
   "source": [
    "# ax_specs_ratio = {\"set_ylim\": (0.1, 1.2)}\n",
    "plot_evolution_from_ref(context, \n",
    "                        ref_epoch=20000, \n",
    "                        tr_epoch=30000,\n",
    "                        xlabel=r\"$x$\",\n",
    "                        ylabel=r\"$xT_3(x)$\",\n",
    "                        # ax_specs=ax_specs_ratio,\n",
    "                        save_fig=False,\n",
    "                        show_ratio=False)"
   ]
  },
  {
   "cell_type": "markdown",
   "id": "b9c9588c",
   "metadata": {},
   "source": [
    "# Plot evolution of the PDF from initialisation"
   ]
  },
  {
   "cell_type": "code",
   "execution_count": null,
   "id": "0f8c2d9e",
   "metadata": {},
   "outputs": [],
   "source": [
    "plot_evolution_from_initialisation(\n",
    "        context,\n",
    "        ref_epoch=1000,\n",
    "        epochs=[700, 500000],\n",
    "        name=\"init_epochs\",\n",
    "        show_true=True,\n",
    "        save_fig=False)"
   ]
  },
  {
   "cell_type": "markdown",
   "id": "6f8a6b96",
   "metadata": {},
   "source": [
    "# Plot evolution of the PDF and compare to trained solution"
   ]
  },
  {
   "cell_type": "code",
   "execution_count": null,
   "id": "900eb6ee",
   "metadata": {},
   "outputs": [],
   "source": [
    "plot_evolution_vs_trained(\n",
    "        context,\n",
    "        ref_epoch=20000,\n",
    "        epoch=500,\n",
    "        show_true=False,\n",
    "        save_fig=False)\n",
    "\n",
    "plot_evolution_vs_trained(\n",
    "        context,\n",
    "        ref_epoch=20000,\n",
    "        epoch=1000,\n",
    "        show_true=False,\n",
    "        save_fig=False)\n",
    "\n",
    "plot_evolution_vs_trained(\n",
    "        context,\n",
    "        ref_epoch=20000,\n",
    "        epoch=10000,\n",
    "        show_true=False,\n",
    "        save_fig=False)"
   ]
  },
  {
   "cell_type": "markdown",
   "id": "b5403ddf",
   "metadata": {},
   "source": [
    "# Plot distance plot for input PDF"
   ]
  },
  {
   "cell_type": "code",
   "execution_count": null,
   "id": "ee2c4503",
   "metadata": {},
   "outputs": [],
   "source": [
    "from yadlt.plotting.plot_distance import plot_distance_from_input\n",
    "\n",
    "plot_distance_from_input(\n",
    "  context,\n",
    "  ref_epoch=20000,\n",
    "  epoch=50000,\n",
    "  seed=2431241,\n",
    "  scale=\"log\",\n",
    "  show_std=True,\n",
    "  save_fig=False,\n",
    ")"
   ]
  },
  {
   "cell_type": "code",
   "execution_count": null,
   "id": "391b3438",
   "metadata": {},
   "outputs": [],
   "source": [
    "NTK_L0 = {\n",
    "    \"eigval_type\": \"ntk\",\n",
    "    \"fitnames\": [\"250713-01-L0-nnpdf-like\"],\n",
    "    \"group_by\": \"eigvals\",\n",
    "    \"ylabel\": \"$\\\\textrm{NTK eigenvalues}$\",\n",
    "    \"labels\": [\n",
    "      \"$\\\\lambda^{1}$\",\n",
    "      \"$\\\\lambda^{2}$\",\n",
    "      \"$\\\\lambda^{3}$\",\n",
    "      \"$\\\\lambda^{4}$\",\n",
    "      \"$\\\\lambda^{5}$\"\n",
    "    ],\n",
    "    \"colors\": [\n",
    "      \"C0\",\n",
    "      \"C1\",\n",
    "      \"C2\",\n",
    "      \"C3\",\n",
    "      \"C4\"\n",
    "    ],\n",
    "    \"eigvals\": [\n",
    "      1,\n",
    "      2,\n",
    "      3,\n",
    "      4,\n",
    "      5\n",
    "    ],\n",
    "}\n",
    "\n",
    "NTK_ARCH_L1= {\n",
    "  \"eigval_type\": \"ntk\",\n",
    "  \"fitnames\": [\n",
    "    \"250713-02-L1-nnpdf-like\",\n",
    "    \"250713-06-L1-large\"\n",
    "  ],\n",
    "  \"group_by\": \"fitnames\",\n",
    "  \"ylabel\": \"$\\\\lambda$\",\n",
    "  \"labels\": [\n",
    "    \"$\\\\textrm{Arch. } [28,20]$\",\n",
    "    \"$\\\\textrm{Arch. } [100,100]$\"\n",
    "  ],\n",
    "  \"colors\": [\n",
    "    \"C0\",\n",
    "    \"C1\"\n",
    "  ],\n",
    "  \"eigvals\": [\n",
    "    1,\n",
    "    2,\n",
    "    3\n",
    "  ],\n",
    "}\n",
    "\n",
    "H_L0 = {\n",
    "    \"eigval_type\": \"h\",\n",
    "    \"fitnames\": [\"250713-01-L0-nnpdf-like\"],\n",
    "    \"group_by\": \"eigvals\",\n",
    "    \"ylabel\": \"$\\\\textrm{h}$\",\n",
    "    \"labels\": [\n",
    "      \"$h^{1}$\",\n",
    "      \"$h^{2}$\",\n",
    "      \"$h^{3}$\"\n",
    "    ],\n",
    "    \"colors\": [\n",
    "      \"C0\",\n",
    "      \"C1\",\n",
    "      \"C2\"\n",
    "    ],\n",
    "    \"eigvals\": [\n",
    "      1,\n",
    "      2,\n",
    "      3\n",
    "    ],\n",
    "}\n",
    "\n",
    "H_L1 = {\n",
    "    \"eigval_type\": \"h\",\n",
    "    \"fitnames\": [\"250713-02-L1-nnpdf-like\"],\n",
    "    \"group_by\": \"eigvals\",\n",
    "    \"ylabel\": \"$\\\\textrm{h}$\",\n",
    "    \"labels\": [\n",
    "      \"$h^{1}$\",\n",
    "      \"$h^{2}$\",\n",
    "      \"$h^{3}$\"\n",
    "    ],\n",
    "    \"colors\": [\n",
    "      \"C0\",\n",
    "      \"C1\",\n",
    "      \"C2\"\n",
    "    ],\n",
    "    \"eigvals\": [\n",
    "      1,\n",
    "      2,\n",
    "      3\n",
    "    ],\n",
    "}"
   ]
  },
  {
   "cell_type": "code",
   "execution_count": null,
   "id": "1a69d441",
   "metadata": {},
   "outputs": [],
   "source": [
    "plot_eigvals_single_plot(**NTK_L0, save_fig=False)\n",
    "plot_eigvals_single_plot(**NTK_ARCH_L1, save_fig=False)\n",
    "plot_eigvals_single_plot(**H_L0, save_fig=False)\n",
    "plot_eigvals_single_plot(**H_L1, save_fig=False)"
   ]
  },
  {
   "cell_type": "markdown",
   "id": "337b41a8",
   "metadata": {},
   "source": [
    "# Plot error bars for the decomposition of the covariance"
   ]
  },
  {
   "cell_type": "code",
   "execution_count": null,
   "id": "29399157",
   "metadata": {},
   "outputs": [],
   "source": [
    "common_spec = {\n",
    "    \"alpha\": 0.5,\n",
    "    \"marker\": \"X\",\n",
    "    \"markersize\": 5,\n",
    "    \"lw\": 2.0,\n",
    "    \"capthick\": 2,\n",
    "    \"capsize\": 3,\n",
    "    \"linestyle\": \"None\",\n",
    "}\n",
    "\n",
    "\n",
    "plot_diag_error_decomposition(\n",
    "    context,\n",
    "    ref_epoch=20000,\n",
    "    epoch=20000,\n",
    "    common_plt_spec=common_spec,\n",
    "    seed=123123123,\n",
    "    save_fig=False,\n",
    "    ax_specs={\"set_xscale\": \"log\", \"set_ylim\": (-1,3)},\n",
    "    divide_by_x=True,\n",
    "    title=\"Test\",\n",
    "    xlabel=\"Epochs\",\n",
    "    ylabel=\"Relative Error\"\n",
    ")"
   ]
  },
  {
   "cell_type": "markdown",
   "id": "a4c4cf09",
   "metadata": {},
   "source": [
    "# Plot the components of the matrix $Q$"
   ]
  },
  {
   "cell_type": "code",
   "execution_count": null,
   "id": "97f711f7",
   "metadata": {},
   "outputs": [],
   "source": [
    "plot_Q_directions(\n",
    "    context,\n",
    "    ref_epoch=1000,\n",
    "    ranks=[1, 2, 5],\n",
    "    colors=[\"blue\", \"orange\", \"green\"],\n",
    "    ax_specs={\"set_ylabel\": r\"$\\pmb{q}(x)$\"},\n",
    "    title=\"test\"\n",
    ")"
   ]
  }
 ],
 "metadata": {
  "kernelspec": {
   "display_name": "dlt",
   "language": "python",
   "name": "python3"
  },
  "language_info": {
   "codemirror_mode": {
    "name": "ipython",
    "version": 3
   },
   "file_extension": ".py",
   "mimetype": "text/x-python",
   "name": "python",
   "nbconvert_exporter": "python",
   "pygments_lexer": "ipython3",
   "version": "3.10.17"
  }
 },
 "nbformat": 4,
 "nbformat_minor": 5
}
