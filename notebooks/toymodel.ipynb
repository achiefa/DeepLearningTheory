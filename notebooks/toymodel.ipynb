{
 "cells": [
  {
   "cell_type": "markdown",
   "id": "13b220a8",
   "metadata": {},
   "source": [
    "# A toy model for the Lazy Training\n",
    "-----------------------------------"
   ]
  },
  {
   "cell_type": "markdown",
   "id": "4dfb909f",
   "metadata": {},
   "source": [
    "In this notebook, we show a simple application of the analytical learning method presented in the paper. Unlike the case studied in the paper, which focused on the extraction of Parton Distribution Functions (PDFs) from experimental data, here we follow a simplified model where no physics is actually involved. Hence, we will not introduce fast-kernel (FK) tables, the the evolution of the training process is uniquely driven by the NTK."
   ]
  },
  {
   "cell_type": "code",
   "execution_count": 1,
   "id": "2ec5eb85",
   "metadata": {},
   "outputs": [],
   "source": [
    "# Import\n",
    "%matplotlib inline\n",
    "import pandas as pd\n",
    "import numpy as np\n",
    "import scipy\n",
    "import matplotlib.pyplot as plt\n",
    "\n",
    "from  matplotlib import rc\n",
    "rc('font',**{'family':'sans-serif','sans-serif':['Helvetica']})\n",
    "rc('text',usetex=True)\n",
    "\n",
    "\n",
    "\n",
    "from dlt.model import PDFmodel, generate_mse_loss"
   ]
  },
  {
   "cell_type": "code",
   "execution_count": 2,
   "id": "1b047760",
   "metadata": {},
   "outputs": [],
   "source": [
    "# Initialise numpy random seed\n",
    "seed = 1241489141\n",
    "np.random.seed(seed)"
   ]
  },
  {
   "cell_type": "markdown",
   "id": "48068ba3",
   "metadata": {},
   "source": [
    "In this example, we use a simple function which will serve as underlying model that we ought to learn. Specifically, we choose the third Legendre polynomial from which we sample our data."
   ]
  },
  {
   "cell_type": "code",
   "execution_count": 3,
   "id": "b36dc71b",
   "metadata": {},
   "outputs": [],
   "source": [
    "Ndat = 100\n",
    "x_range = [-1,1]\n",
    "test_function = scipy.special.legendre(3)\n",
    "add_noise = False"
   ]
  },
  {
   "cell_type": "code",
   "execution_count": 4,
   "id": "26435764",
   "metadata": {},
   "outputs": [
    {
     "data": {
      "image/png": "[encoded data removed]",
      "text/plain": [
       "<Figure size 640x480 with 1 Axes>"
      ]
     },
     "metadata": {},
     "output_type": "display_data"
    }
   ],
   "source": [
    "# Generate Data\n",
    "x = np.linspace(-1, 1, 100)  # Input data\n",
    "y_true = test_function(x) #np.sin(x)  # True function\n",
    "std = 0.1\n",
    "noise = np.random.normal(0, std, size=y_true.shape)  # Adding some noise\n",
    "\n",
    "if add_noise:\n",
    "  y_noisy = y_true + noise\n",
    "else:\n",
    "  y_noisy = y_true\n",
    "\n",
    "_ = plt.scatter(x, y_noisy, label='Noisy data')\n",
    "_ = plt.plot(x, y_true, linewidth=5, color='orange', label='True data')\n",
    "_ = plt.legend()"
   ]
  },
  {
   "cell_type": "markdown",
   "id": "178dc406",
   "metadata": {},
   "source": [
    "The set of points generated above is the training set that we use to train our model, which is generated in the following cell:"
   ]
  },
  {
   "cell_type": "code",
   "execution_count": null,
   "id": "d7aab701",
   "metadata": {},
   "outputs": [
    {
     "data": {
      "text/html": [
       "<div><span style=\"color: green; font-weight: bold\">[INFO]: </span><span style=\"color: var(currentColor, white)\">Initializing PDFmodel...</span></div>"
      ],
      "text/plain": [
       "<IPython.core.display.HTML object>"
      ]
     },
     "metadata": {},
     "output_type": "display_data"
    },
    {
     "ename": "Exception",
     "evalue": "The length of activations must match the number of layers.",
     "output_type": "error",
     "traceback": [
      "\u001b[0;31m---------------------------------------------------------------------------\u001b[0m",
      "\u001b[0;31mException\u001b[0m                                 Traceback (most recent call last)",
      "Cell \u001b[0;32mIn[17], line 1\u001b[0m\n\u001b[0;32m----> 1\u001b[0m Model \u001b[38;5;241m=\u001b[39m \u001b[43mPDFmodel\u001b[49m\u001b[43m(\u001b[49m\n\u001b[1;32m      2\u001b[0m \u001b[43m          \u001b[49m\u001b[43mdense_layer\u001b[49m\u001b[38;5;241;43m=\u001b[39;49m\u001b[38;5;124;43m'\u001b[39;49m\u001b[38;5;124;43mDense\u001b[39;49m\u001b[38;5;124;43m'\u001b[39;49m\u001b[43m,\u001b[49m\n\u001b[1;32m      3\u001b[0m \u001b[43m          \u001b[49m\u001b[38;5;28;43minput\u001b[39;49m\u001b[38;5;241;43m=\u001b[39;49m\u001b[43mx\u001b[49m\u001b[43m,\u001b[49m\n\u001b[1;32m      4\u001b[0m \u001b[43m          \u001b[49m\u001b[43moutputs\u001b[49m\u001b[38;5;241;43m=\u001b[39;49m\u001b[38;5;241;43m1\u001b[39;49m\u001b[43m,\u001b[49m\n\u001b[1;32m      5\u001b[0m \u001b[43m          \u001b[49m\u001b[43marchitecture\u001b[49m\u001b[38;5;241;43m=\u001b[39;49m\u001b[43m[\u001b[49m\u001b[38;5;241;43m25\u001b[39;49m\u001b[43m,\u001b[49m\u001b[43m \u001b[49m\u001b[38;5;241;43m28\u001b[39;49m\u001b[43m]\u001b[49m\u001b[43m,\u001b[49m\n\u001b[1;32m      6\u001b[0m \u001b[43m          \u001b[49m\u001b[43mactivations\u001b[49m\u001b[38;5;241;43m=\u001b[39;49m\u001b[43m[\u001b[49m\u001b[38;5;124;43m'\u001b[39;49m\u001b[38;5;124;43mtanh\u001b[39;49m\u001b[38;5;124;43m'\u001b[39;49m\u001b[43m]\u001b[49m\u001b[43m,\u001b[49m\n\u001b[1;32m      7\u001b[0m \u001b[43m          \u001b[49m\u001b[43mkernel_initializer\u001b[49m\u001b[38;5;241;43m=\u001b[39;49m\u001b[38;5;124;43m'\u001b[39;49m\u001b[38;5;124;43mGlorotNormal\u001b[39;49m\u001b[38;5;124;43m'\u001b[39;49m\u001b[43m,\u001b[49m\n\u001b[1;32m      8\u001b[0m \u001b[43m          \u001b[49m\u001b[43muser_ki_args\u001b[49m\u001b[38;5;241;43m=\u001b[39;49m\u001b[38;5;28;43;01mNone\u001b[39;49;00m\u001b[43m,\u001b[49m\n\u001b[1;32m      9\u001b[0m \u001b[43m          \u001b[49m\u001b[43mseed\u001b[49m\u001b[38;5;241;43m=\u001b[39;49m\u001b[43mseed\u001b[49m\u001b[43m,\u001b[49m\n\u001b[1;32m     10\u001b[0m \u001b[43m          \u001b[49m\u001b[43minit_bias\u001b[49m\u001b[38;5;241;43m=\u001b[39;49m\u001b[38;5;28;43;01mFalse\u001b[39;49;00m\u001b[43m,\u001b[49m\n\u001b[1;32m     11\u001b[0m \u001b[43m          \u001b[49m\u001b[43mdtype\u001b[49m\u001b[38;5;241;43m=\u001b[39;49m\u001b[43mnp\u001b[49m\u001b[38;5;241;43m.\u001b[39;49m\u001b[43mfloat64\u001b[49m\u001b[43m)\u001b[49m\n\u001b[1;32m     12\u001b[0m Model\u001b[38;5;241m.\u001b[39mmodel\u001b[38;5;241m.\u001b[39msummary()\n\u001b[1;32m     13\u001b[0m ntk \u001b[38;5;241m=\u001b[39m Model\u001b[38;5;241m.\u001b[39mcompute_ntk()\n",
      "File \u001b[0;32m~/Codes/DeepLearningTheory/dlt/model.py:112\u001b[0m, in \u001b[0;36mPDFmodel.__init__\u001b[0;34m(self, input, outputs, architecture, activations, kernel_initializer, user_ki_args, seed, dtype, dense_layer, init_bias)\u001b[0m\n\u001b[1;32m    109\u001b[0m \u001b[38;5;66;03m# Check that the length of architecture and activations\u001b[39;00m\n\u001b[1;32m    110\u001b[0m \u001b[38;5;66;03m# is the same\u001b[39;00m\n\u001b[1;32m    111\u001b[0m \u001b[38;5;28;01mif\u001b[39;00m \u001b[38;5;28mlen\u001b[39m(architecture) \u001b[38;5;241m!=\u001b[39m \u001b[38;5;28mlen\u001b[39m(activations):\n\u001b[0;32m--> 112\u001b[0m     \u001b[38;5;28;01mraise\u001b[39;00m \u001b[38;5;167;01mException\u001b[39;00m(\n\u001b[1;32m    113\u001b[0m         \u001b[38;5;124m\"\u001b[39m\u001b[38;5;124mThe length of activations must match the number of layers.\u001b[39m\u001b[38;5;124m\"\u001b[39m\n\u001b[1;32m    114\u001b[0m     )\n\u001b[1;32m    116\u001b[0m \u001b[38;5;66;03m# Convert input in tf.tensor\u001b[39;00m\n\u001b[1;32m    117\u001b[0m x \u001b[38;5;241m=\u001b[39m tf\u001b[38;5;241m.\u001b[39mconvert_to_tensor(\u001b[38;5;28minput\u001b[39m)\n",
      "\u001b[0;31mException\u001b[0m: The length of activations must match the number of layers."
     ]
    }
   ],
   "source": [
    "Model = PDFmodel(\n",
    "          dense_layer='Dense',\n",
    "          input=x,\n",
    "          outputs=1,\n",
    "          architecture=[25, 28],\n",
    "          activations=['tanh', 'tanh']\n",
    "          kernel_initializer='GlorotNormal',\n",
    "          user_ki_args=None,\n",
    "          seed=seed,\n",
    "          init_bias=False,\n",
    "          dtype=np.float64)\n",
    "Model.model.summary()\n",
    "ntk = Model.compute_ntk()\n",
    "f0 = Model.predict().numpy().squeeze()"
   ]
  },
  {
   "cell_type": "code",
   "execution_count": 18,
   "id": "afc9e4b0",
   "metadata": {},
   "outputs": [
    {
     "data": {
      "text/html": [
       "<div><span style=\"color: green; font-weight: bold\">[INFO]: </span><span style=\"color: var(currentColor, white)\">Using <keras.src.optimizers.sgd.SGD object at 0x2a9d6f6a0> as optimizer.</span></div>"
      ],
      "text/plain": [
       "<IPython.core.display.HTML object>"
      ]
     },
     "metadata": {},
     "output_type": "display_data"
    },
    {
     "data": {
      "text/html": [
       "<div><span style=\"color: green; font-weight: bold\">[INFO]: </span><span style=\"color: var(currentColor, white)\">Epoch 0/10000:\n",
       "   Loss: 0.2477179493548947, Loss/Ndat: 0.0, Rel. loss: 0.0</span></div>"
      ],
      "text/plain": [
       "<IPython.core.display.HTML object>"
      ]
     },
     "metadata": {},
     "output_type": "display_data"
    },
    {
     "data": {
      "text/html": [
       "<div><span style=\"color: green; font-weight: bold\">[INFO]: </span><span style=\"color: var(currentColor, white)\">Epoch 100/10000:\n",
       "   Loss: 0.24641397838997178, Loss/Ndat: 0.0, Rel. loss: 5.243342002484188e-05</span></div>"
      ],
      "text/plain": [
       "<IPython.core.display.HTML object>"
      ]
     },
     "metadata": {},
     "output_type": "display_data"
    },
    {
     "data": {
      "text/html": [
       "<div><span style=\"color: green; font-weight: bold\">[INFO]: </span><span style=\"color: var(currentColor, white)\">Epoch 200/10000:\n",
       "   Loss: 0.2451337694270616, Loss/Ndat: 0.0, Rel. loss: 5.175104009515487e-05</span></div>"
      ],
      "text/plain": [
       "<IPython.core.display.HTML object>"
      ]
     },
     "metadata": {},
     "output_type": "display_data"
    },
    {
     "data": {
      "text/html": [
       "<div><span style=\"color: green; font-weight: bold\">[INFO]: </span><span style=\"color: var(currentColor, white)\">Epoch 300/10000:\n",
       "   Loss: 0.24387668299248189, Loss/Ndat: 0.0, Rel. loss: 5.108246540506918e-05</span></div>"
      ],
      "text/plain": [
       "<IPython.core.display.HTML object>"
      ]
     },
     "metadata": {},
     "output_type": "display_data"
    },
    {
     "data": {
      "text/html": [
       "<div><span style=\"color: green; font-weight: bold\">[INFO]: </span><span style=\"color: var(currentColor, white)\">Epoch 400/10000:\n",
       "   Loss: 0.24264209939537745, Loss/Ndat: 0.0, Rel. loss: 5.0427429950969653e-05</span></div>"
      ],
      "text/plain": [
       "<IPython.core.display.HTML object>"
      ]
     },
     "metadata": {},
     "output_type": "display_data"
    },
    {
     "data": {
      "text/html": [
       "<div><span style=\"color: green; font-weight: bold\">[INFO]: </span><span style=\"color: var(currentColor, white)\">Epoch 500/10000:\n",
       "   Loss: 0.24142941802013546, Loss/Ndat: 0.0, Rel. loss: 4.978567254073828e-05</span></div>"
      ],
      "text/plain": [
       "<IPython.core.display.HTML object>"
      ]
     },
     "metadata": {},
     "output_type": "display_data"
    },
    {
     "data": {
      "text/html": [
       "<div><span style=\"color: green; font-weight: bold\">[INFO]: </span><span style=\"color: var(currentColor, white)\">Epoch 600/10000:\n",
       "   Loss: 0.24023805665252154, Loss/Ndat: 0.0, Rel. loss: 4.9156936524207815e-05</span></div>"
      ],
      "text/plain": [
       "<IPython.core.display.HTML object>"
      ]
     },
     "metadata": {},
     "output_type": "display_data"
    },
    {
     "data": {
      "text/html": [
       "<div><span style=\"color: green; font-weight: bold\">[INFO]: </span><span style=\"color: var(currentColor, white)\">Epoch 700/10000:\n",
       "   Loss: 0.23906745083736913, Loss/Ndat: 0.0, Rel. loss: 4.8540969553403105e-05</span></div>"
      ],
      "text/plain": [
       "<IPython.core.display.HTML object>"
      ]
     },
     "metadata": {},
     "output_type": "display_data"
    },
    {
     "data": {
      "text/html": [
       "<div><span style=\"color: green; font-weight: bold\">[INFO]: </span><span style=\"color: var(currentColor, white)\">Epoch 800/10000:\n",
       "   Loss: 0.23791705326579476, Loss/Ndat: 0.0, Rel. loss: 4.793752340350089e-05</span></div>"
      ],
      "text/plain": [
       "<IPython.core.display.HTML object>"
      ]
     },
     "metadata": {},
     "output_type": "display_data"
    },
    {
     "data": {
      "text/html": [
       "<div><span style=\"color: green; font-weight: bold\">[INFO]: </span><span style=\"color: var(currentColor, white)\">Epoch 900/10000:\n",
       "   Loss: 0.23678633319008502, Loss/Ndat: 0.0, Rel. loss: 4.734635374955104e-05</span></div>"
      ],
      "text/plain": [
       "<IPython.core.display.HTML object>"
      ]
     },
     "metadata": {},
     "output_type": "display_data"
    },
    {
     "data": {
      "text/html": [
       "<div><span style=\"color: green; font-weight: bold\">[INFO]: </span><span style=\"color: var(currentColor, white)\">Epoch 1000/10000:\n",
       "   Loss: 0.23567477586449356, Loss/Ndat: 0.0, Rel. loss: 4.676722005773575e-05</span></div>"
      ],
      "text/plain": [
       "<IPython.core.display.HTML object>"
      ]
     },
     "metadata": {},
     "output_type": "display_data"
    },
    {
     "data": {
      "text/html": [
       "<div><span style=\"color: green; font-weight: bold\">[INFO]: </span><span style=\"color: var(currentColor, white)\">Epoch 1100/10000:\n",
       "   Loss: 0.2345818820103715, Loss/Ndat: 0.0, Rel. loss: 4.619988539706199e-05</span></div>"
      ],
      "text/plain": [
       "<IPython.core.display.HTML object>"
      ]
     },
     "metadata": {},
     "output_type": "display_data"
    },
    {
     "data": {
      "text/html": [
       "<div><span style=\"color: green; font-weight: bold\">[INFO]: </span><span style=\"color: var(currentColor, white)\">Epoch 1200/10000:\n",
       "   Loss: 0.2335071673041087, Loss/Ndat: 0.0, Rel. loss: 4.564411634124351e-05</span></div>"
      ],
      "text/plain": [
       "<IPython.core.display.HTML object>"
      ]
     },
     "metadata": {},
     "output_type": "display_data"
    },
    {
     "data": {
      "text/html": [
       "<div><span style=\"color: green; font-weight: bold\">[INFO]: </span><span style=\"color: var(currentColor, white)\">Epoch 1300/10000:\n",
       "   Loss: 0.23245016188651862, Loss/Ndat: 0.0, Rel. loss: 4.509968287405496e-05</span></div>"
      ],
      "text/plain": [
       "<IPython.core.display.HTML object>"
      ]
     },
     "metadata": {},
     "output_type": "display_data"
    },
    {
     "data": {
      "text/html": [
       "<div><span style=\"color: green; font-weight: bold\">[INFO]: </span><span style=\"color: var(currentColor, white)\">Epoch 1400/10000:\n",
       "   Loss: 0.23141040989238637, Loss/Ndat: 0.0, Rel. loss: 4.456635826436079e-05</span></div>"
      ],
      "text/plain": [
       "<IPython.core.display.HTML object>"
      ]
     },
     "metadata": {},
     "output_type": "display_data"
    },
    {
     "data": {
      "text/html": [
       "<div><span style=\"color: green; font-weight: bold\">[INFO]: </span><span style=\"color: var(currentColor, white)\">Epoch 1500/10000:\n",
       "   Loss: 0.23038746899898566, Loss/Ndat: 0.0, Rel. loss: 4.404391901807735e-05</span></div>"
      ],
      "text/plain": [
       "<IPython.core.display.HTML object>"
      ]
     },
     "metadata": {},
     "output_type": "display_data"
    },
    {
     "data": {
      "text/html": [
       "<div><span style=\"color: green; font-weight: bold\">[INFO]: </span><span style=\"color: var(currentColor, white)\">Epoch 1600/10000:\n",
       "   Loss: 0.22938090999246236, Loss/Ndat: 0.0, Rel. loss: 4.353214480497031e-05</span></div>"
      ],
      "text/plain": [
       "<IPython.core.display.HTML object>"
      ]
     },
     "metadata": {},
     "output_type": "display_data"
    },
    {
     "data": {
      "text/html": [
       "<div><span style=\"color: green; font-weight: bold\">[INFO]: </span><span style=\"color: var(currentColor, white)\">Epoch 1700/10000:\n",
       "   Loss: 0.22839031635107987, Loss/Ndat: 0.0, Rel. loss: 4.3030818397405284e-05</span></div>"
      ],
      "text/plain": [
       "<IPython.core.display.HTML object>"
      ]
     },
     "metadata": {},
     "output_type": "display_data"
    },
    {
     "data": {
      "text/html": [
       "<div><span style=\"color: green; font-weight: bold\">[INFO]: </span><span style=\"color: var(currentColor, white)\">Epoch 1800/10000:\n",
       "   Loss: 0.2274152838443661, Loss/Ndat: 0.0, Rel. loss: 4.253972563291807e-05</span></div>"
      ],
      "text/plain": [
       "<IPython.core.display.HTML object>"
      ]
     },
     "metadata": {},
     "output_type": "display_data"
    },
    {
     "data": {
      "text/html": [
       "<div><span style=\"color: green; font-weight: bold\">[INFO]: </span><span style=\"color: var(currentColor, white)\">Epoch 1900/10000:\n",
       "   Loss: 0.22645542014729464, Loss/Ndat: 0.0, Rel. loss: 4.205865537059447e-05</span></div>"
      ],
      "text/plain": [
       "<IPython.core.display.HTML object>"
      ]
     },
     "metadata": {},
     "output_type": "display_data"
    },
    {
     "data": {
      "text/html": [
       "<div><span style=\"color: green; font-weight: bold\">[INFO]: </span><span style=\"color: var(currentColor, white)\">Epoch 2000/10000:\n",
       "   Loss: 0.22551034446868992, Loss/Ndat: 0.0, Rel. loss: 4.158739947066465e-05</span></div>"
      ],
      "text/plain": [
       "<IPython.core.display.HTML object>"
      ]
     },
     "metadata": {},
     "output_type": "display_data"
    },
    {
     "data": {
      "text/html": [
       "<div><span style=\"color: green; font-weight: bold\">[INFO]: </span><span style=\"color: var(currentColor, white)\">Epoch 2100/10000:\n",
       "   Loss: 0.2245796871930987, Loss/Ndat: 0.0, Rel. loss: 4.11257527620057e-05</span></div>"
      ],
      "text/plain": [
       "<IPython.core.display.HTML object>"
      ]
     },
     "metadata": {},
     "output_type": "display_data"
    },
    {
     "data": {
      "text/html": [
       "<div><span style=\"color: green; font-weight: bold\">[INFO]: </span><span style=\"color: var(currentColor, white)\">Epoch 2200/10000:\n",
       "   Loss: 0.22366308953543848, Loss/Ndat: 0.0, Rel. loss: 4.06735130215243e-05</span></div>"
      ],
      "text/plain": [
       "<IPython.core.display.HTML object>"
      ]
     },
     "metadata": {},
     "output_type": "display_data"
    },
    {
     "data": {
      "text/html": [
       "<div><span style=\"color: green; font-weight: bold\">[INFO]: </span><span style=\"color: var(currentColor, white)\">Epoch 2300/10000:\n",
       "   Loss: 0.22276020320776518, Loss/Ndat: 0.0, Rel. loss: 4.0230480972932705e-05</span></div>"
      ],
      "text/plain": [
       "<IPython.core.display.HTML object>"
      ]
     },
     "metadata": {},
     "output_type": "display_data"
    },
    {
     "data": {
      "text/html": [
       "<div><span style=\"color: green; font-weight: bold\">[INFO]: </span><span style=\"color: var(currentColor, white)\">Epoch 2400/10000:\n",
       "   Loss: 0.2218706900975696, Loss/Ndat: 0.0, Rel. loss: 3.979646026167291e-05</span></div>"
      ],
      "text/plain": [
       "<IPython.core.display.HTML object>"
      ]
     },
     "metadata": {},
     "output_type": "display_data"
    },
    {
     "data": {
      "text/html": [
       "<div><span style=\"color: green; font-weight: bold\">[INFO]: </span><span style=\"color: var(currentColor, white)\">Epoch 2500/10000:\n",
       "   Loss: 0.22099422195703486, Loss/Ndat: 0.0, Rel. loss: 3.937125746589532e-05</span></div>"
      ],
      "text/plain": [
       "<IPython.core.display.HTML object>"
      ]
     },
     "metadata": {},
     "output_type": "display_data"
    },
    {
     "data": {
      "text/html": [
       "<div><span style=\"color: green; font-weight: bold\">[INFO]: </span><span style=\"color: var(currentColor, white)\">Epoch 2600/10000:\n",
       "   Loss: 0.22013048010274522, Loss/Ndat: 0.0, Rel. loss: 3.895468206745758e-05</span></div>"
      ],
      "text/plain": [
       "<IPython.core.display.HTML object>"
      ]
     },
     "metadata": {},
     "output_type": "display_data"
    },
    {
     "data": {
      "text/html": [
       "<div><span style=\"color: green; font-weight: bold\">[INFO]: </span><span style=\"color: var(currentColor, white)\">Epoch 2700/10000:\n",
       "   Loss: 0.21927915512535304, Loss/Ndat: 0.0, Rel. loss: 3.854654647505218e-05</span></div>"
      ],
      "text/plain": [
       "<IPython.core.display.HTML object>"
      ]
     },
     "metadata": {},
     "output_type": "display_data"
    },
    {
     "data": {
      "text/html": [
       "<div><span style=\"color: green; font-weight: bold\">[INFO]: </span><span style=\"color: var(currentColor, white)\">Epoch 2800/10000:\n",
       "   Loss: 0.21843994660876204, Loss/Ndat: 0.0, Rel. loss: 3.8146666000404535e-05</span></div>"
      ],
      "text/plain": [
       "<IPython.core.display.HTML object>"
      ]
     },
     "metadata": {},
     "output_type": "display_data"
    },
    {
     "data": {
      "text/html": [
       "<div><span style=\"color: green; font-weight: bold\">[INFO]: </span><span style=\"color: var(currentColor, white)\">Epoch 2900/10000:\n",
       "   Loss: 0.2176125628584044, Loss/Ndat: 0.0, Rel. loss: 3.7754858866828614e-05</span></div>"
      ],
      "text/plain": [
       "<IPython.core.display.HTML object>"
      ]
     },
     "metadata": {},
     "output_type": "display_data"
    },
    {
     "data": {
      "text/html": [
       "<div><span style=\"color: green; font-weight: bold\">[INFO]: </span><span style=\"color: var(currentColor, white)\">Epoch 3000/10000:\n",
       "   Loss: 0.21679672063821992, Loss/Ndat: 0.0, Rel. loss: 3.7370946219316695e-05</span></div>"
      ],
      "text/plain": [
       "<IPython.core.display.HTML object>"
      ]
     },
     "metadata": {},
     "output_type": "display_data"
    },
    {
     "data": {
      "text/html": [
       "<div><span style=\"color: green; font-weight: bold\">[INFO]: </span><span style=\"color: var(currentColor, white)\">Epoch 3100/10000:\n",
       "   Loss: 0.21599214491597682, Loss/Ndat: 0.0, Rel. loss: 3.6994752096749454e-05</span></div>"
      ],
      "text/plain": [
       "<IPython.core.display.HTML object>"
      ]
     },
     "metadata": {},
     "output_type": "display_data"
    },
    {
     "data": {
      "text/html": [
       "<div><span style=\"color: green; font-weight: bold\">[INFO]: </span><span style=\"color: var(currentColor, white)\">Epoch 3200/10000:\n",
       "   Loss: 0.21519856861658154, Loss/Ndat: 0.0, Rel. loss: 3.662610346193063e-05</span></div>"
      ],
      "text/plain": [
       "<IPython.core.display.HTML object>"
      ]
     },
     "metadata": {},
     "output_type": "display_data"
    },
    {
     "data": {
      "text/html": [
       "<div><span style=\"color: green; font-weight: bold\">[INFO]: </span><span style=\"color: var(currentColor, white)\">Epoch 3300/10000:\n",
       "   Loss: 0.2144157323830742, Loss/Ndat: 0.0, Rel. loss: 3.626483018305891e-05</span></div>"
      ],
      "text/plain": [
       "<IPython.core.display.HTML object>"
      ]
     },
     "metadata": {},
     "output_type": "display_data"
    },
    {
     "data": {
      "text/html": [
       "<div><span style=\"color: green; font-weight: bold\">[INFO]: </span><span style=\"color: var(currentColor, white)\">Epoch 3400/10000:\n",
       "   Loss: 0.2136433843449947, Loss/Ndat: 0.0, Rel. loss: 3.5910765033474145e-05</span></div>"
      ],
      "text/plain": [
       "<IPython.core.display.HTML object>"
      ]
     },
     "metadata": {},
     "output_type": "display_data"
    },
    {
     "data": {
      "text/html": [
       "<div><span style=\"color: green; font-weight: bold\">[INFO]: </span><span style=\"color: var(currentColor, white)\">Epoch 3500/10000:\n",
       "   Loss: 0.21288127989384653, Loss/Ndat: 0.0, Rel. loss: 3.556374369528363e-05</span></div>"
      ],
      "text/plain": [
       "<IPython.core.display.HTML object>"
      ]
     },
     "metadata": {},
     "output_type": "display_data"
    },
    {
     "data": {
      "text/html": [
       "<div><span style=\"color: green; font-weight: bold\">[INFO]: </span><span style=\"color: var(currentColor, white)\">Epoch 3600/10000:\n",
       "   Loss: 0.21212918146539367, Loss/Ndat: 0.0, Rel. loss: 3.522360474272188e-05</span></div>"
      ],
      "text/plain": [
       "<IPython.core.display.HTML object>"
      ]
     },
     "metadata": {},
     "output_type": "display_data"
    },
    {
     "data": {
      "text/html": [
       "<div><span style=\"color: green; font-weight: bold\">[INFO]: </span><span style=\"color: var(currentColor, white)\">Epoch 3700/10000:\n",
       "   Loss: 0.21138685832853754, Loss/Ndat: 0.0, Rel. loss: 3.4890189650101395e-05</span></div>"
      ],
      "text/plain": [
       "<IPython.core.display.HTML object>"
      ]
     },
     "metadata": {},
     "output_type": "display_data"
    },
    {
     "data": {
      "text/html": [
       "<div><span style=\"color: green; font-weight: bold\">[INFO]: </span><span style=\"color: var(currentColor, white)\">Epoch 3800/10000:\n",
       "   Loss: 0.21065408638054278, Loss/Ndat: 0.0, Rel. loss: 3.456334278824582e-05</span></div>"
      ],
      "text/plain": [
       "<IPython.core.display.HTML object>"
      ]
     },
     "metadata": {},
     "output_type": "display_data"
    },
    {
     "data": {
      "text/html": [
       "<div><span style=\"color: green; font-weight: bold\">[INFO]: </span><span style=\"color: var(currentColor, white)\">Epoch 3900/10000:\n",
       "   Loss: 0.20993064794839145, Loss/Ndat: 0.0, Rel. loss: 3.4242911398815916e-05</span></div>"
      ],
      "text/plain": [
       "<IPython.core.display.HTML object>"
      ]
     },
     "metadata": {},
     "output_type": "display_data"
    },
    {
     "data": {
      "text/html": [
       "<div><span style=\"color: green; font-weight: bold\">[INFO]: </span><span style=\"color: var(currentColor, white)\">Epoch 4000/10000:\n",
       "   Loss: 0.20921633159605457, Loss/Ndat: 0.0, Rel. loss: 3.392874559215096e-05</span></div>"
      ],
      "text/plain": [
       "<IPython.core.display.HTML object>"
      ]
     },
     "metadata": {},
     "output_type": "display_data"
    },
    {
     "data": {
      "text/html": [
       "<div><span style=\"color: green; font-weight: bold\">[INFO]: </span><span style=\"color: var(currentColor, white)\">Epoch 4100/10000:\n",
       "   Loss: 0.20851093193747755, Loss/Ndat: 0.0, Rel. loss: 3.362069835266026e-05</span></div>"
      ],
      "text/plain": [
       "<IPython.core.display.HTML object>"
      ]
     },
     "metadata": {},
     "output_type": "display_data"
    },
    {
     "data": {
      "text/html": [
       "<div><span style=\"color: green; font-weight: bold\">[INFO]: </span><span style=\"color: var(currentColor, white)\">Epoch 4200/10000:\n",
       "   Loss: 0.20781424945510585, Loss/Ndat: 0.0, Rel. loss: 3.3318625502196014e-05</span></div>"
      ],
      "text/plain": [
       "<IPython.core.display.HTML object>"
      ]
     },
     "metadata": {},
     "output_type": "display_data"
    },
    {
     "data": {
      "text/html": [
       "<div><span style=\"color: green; font-weight: bold\">[INFO]: </span><span style=\"color: var(currentColor, white)\">Epoch 4300/10000:\n",
       "   Loss: 0.20712609032375837, Loss/Ndat: 0.0, Rel. loss: 3.302238569430542e-05</span></div>"
      ],
      "text/plain": [
       "<IPython.core.display.HTML object>"
      ]
     },
     "metadata": {},
     "output_type": "display_data"
    },
    {
     "data": {
      "text/html": [
       "<div><span style=\"color: green; font-weight: bold\">[INFO]: </span><span style=\"color: var(currentColor, white)\">Epoch 4400/10000:\n",
       "   Loss: 0.20644626623968088, Loss/Ndat: 0.0, Rel. loss: 3.2731840408135683e-05</span></div>"
      ],
      "text/plain": [
       "<IPython.core.display.HTML object>"
      ]
     },
     "metadata": {},
     "output_type": "display_data"
    },
    {
     "data": {
      "text/html": [
       "<div><span style=\"color: green; font-weight: bold\">[INFO]: </span><span style=\"color: var(currentColor, white)\">Epoch 4500/10000:\n",
       "   Loss: 0.2057745942546304, Loss/Ndat: 0.0, Rel. loss: 3.2446853907059835e-05</span></div>"
      ],
      "text/plain": [
       "<IPython.core.display.HTML object>"
      ]
     },
     "metadata": {},
     "output_type": "display_data"
    },
    {
     "data": {
      "text/html": [
       "<div><span style=\"color: green; font-weight: bold\">[INFO]: </span><span style=\"color: var(currentColor, white)\">Epoch 4600/10000:\n",
       "   Loss: 0.2051108966148156, Loss/Ndat: 0.0, Rel. loss: 3.2167293251201004e-05</span></div>"
      ],
      "text/plain": [
       "<IPython.core.display.HTML object>"
      ]
     },
     "metadata": {},
     "output_type": "display_data"
    },
    {
     "data": {
      "text/html": [
       "<div><span style=\"color: green; font-weight: bold\">[INFO]: </span><span style=\"color: var(currentColor, white)\">Epoch 4700/10000:\n",
       "   Loss: 0.20445500060456115, Loss/Ndat: 0.0, Rel. loss: 3.1893028251310336e-05</span></div>"
      ],
      "text/plain": [
       "<IPython.core.display.HTML object>"
      ]
     },
     "metadata": {},
     "output_type": "display_data"
    },
    {
     "data": {
      "text/html": [
       "<div><span style=\"color: green; font-weight: bold\">[INFO]: </span><span style=\"color: var(currentColor, white)\">Epoch 4800/10000:\n",
       "   Loss: 0.20380673839455357, Loss/Ndat: 0.0, Rel. loss: 3.162393145605049e-05</span></div>"
      ],
      "text/plain": [
       "<IPython.core.display.HTML object>"
      ]
     },
     "metadata": {},
     "output_type": "display_data"
    },
    {
     "data": {
      "text/html": [
       "<div><span style=\"color: green; font-weight: bold\">[INFO]: </span><span style=\"color: var(currentColor, white)\">Epoch 4900/10000:\n",
       "   Loss: 0.20316594689452355, Loss/Ndat: 0.0, Rel. loss: 3.135987812722038e-05</span></div>"
      ],
      "text/plain": [
       "<IPython.core.display.HTML object>"
      ]
     },
     "metadata": {},
     "output_type": "display_data"
    },
    {
     "data": {
      "text/html": [
       "<div><span style=\"color: green; font-weight: bold\">[INFO]: </span><span style=\"color: var(currentColor, white)\">Epoch 5000/10000:\n",
       "   Loss: 0.2025324676102434, Loss/Ndat: 0.0, Rel. loss: 3.1100746220396554e-05</span></div>"
      ],
      "text/plain": [
       "<IPython.core.display.HTML object>"
      ]
     },
     "metadata": {},
     "output_type": "display_data"
    },
    {
     "data": {
      "text/html": [
       "<div><span style=\"color: green; font-weight: bold\">[INFO]: </span><span style=\"color: var(currentColor, white)\">Epoch 5100/10000:\n",
       "   Loss: 0.20190614650471372, Loss/Ndat: 0.0, Rel. loss: 3.084641633693901e-05</span></div>"
      ],
      "text/plain": [
       "<IPython.core.display.HTML object>"
      ]
     },
     "metadata": {},
     "output_type": "display_data"
    },
    {
     "data": {
      "text/html": [
       "<div><span style=\"color: green; font-weight: bold\">[INFO]: </span><span style=\"color: var(currentColor, white)\">Epoch 5200/10000:\n",
       "   Loss: 0.20128683386341595, Loss/Ndat: 0.0, Rel. loss: 3.0596771731580966e-05</span></div>"
      ],
      "text/plain": [
       "<IPython.core.display.HTML object>"
      ]
     },
     "metadata": {},
     "output_type": "display_data"
    },
    {
     "data": {
      "text/html": [
       "<div><span style=\"color: green; font-weight: bold\">[INFO]: </span><span style=\"color: var(currentColor, white)\">Epoch 5300/10000:\n",
       "   Loss: 0.20067438416351724, Loss/Ndat: 0.0, Rel. loss: 3.0351698241712257e-05</span></div>"
      ],
      "text/plain": [
       "<IPython.core.display.HTML object>"
      ]
     },
     "metadata": {},
     "output_type": "display_data"
    },
    {
     "data": {
      "text/html": [
       "<div><span style=\"color: green; font-weight: bold\">[INFO]: </span><span style=\"color: var(currentColor, white)\">Epoch 5400/10000:\n",
       "   Loss: 0.20006865594691509, Loss/Ndat: 0.0, Rel. loss: 3.0111084296217684e-05</span></div>"
      ],
      "text/plain": [
       "<IPython.core.display.HTML object>"
      ]
     },
     "metadata": {},
     "output_type": "display_data"
    },
    {
     "data": {
      "text/html": [
       "<div><span style=\"color: green; font-weight: bold\">[INFO]: </span><span style=\"color: var(currentColor, white)\">Epoch 5500/10000:\n",
       "   Loss: 0.19946951169701588, Loss/Ndat: 0.0, Rel. loss: 2.9874820857114898e-05</span></div>"
      ],
      "text/plain": [
       "<IPython.core.display.HTML object>"
      ]
     },
     "metadata": {},
     "output_type": "display_data"
    },
    {
     "data": {
      "text/html": [
       "<div><span style=\"color: green; font-weight: bold\">[INFO]: </span><span style=\"color: var(currentColor, white)\">Epoch 5600/10000:\n",
       "   Loss: 0.1988768177191385, Loss/Ndat: 0.0, Rel. loss: 2.9642801393731024e-05</span></div>"
      ],
      "text/plain": [
       "<IPython.core.display.HTML object>"
      ]
     },
     "metadata": {},
     "output_type": "display_data"
    },
    {
     "data": {
      "text/html": [
       "<div><span style=\"color: green; font-weight: bold\">[INFO]: </span><span style=\"color: var(currentColor, white)\">Epoch 5700/10000:\n",
       "   Loss: 0.1982904440244473, Loss/Ndat: 0.0, Rel. loss: 2.9414921856077588e-05</span></div>"
      ],
      "text/plain": [
       "<IPython.core.display.HTML object>"
      ]
     },
     "metadata": {},
     "output_type": "display_data"
    },
    {
     "data": {
      "text/html": [
       "<div><span style=\"color: green; font-weight: bold\">[INFO]: </span><span style=\"color: var(currentColor, white)\">Epoch 5800/10000:\n",
       "   Loss: 0.19771026421731364, Loss/Ndat: 0.0, Rel. loss: 2.919108064049336e-05</span></div>"
      ],
      "text/plain": [
       "<IPython.core.display.HTML object>"
      ]
     },
     "metadata": {},
     "output_type": "display_data"
    },
    {
     "data": {
      "text/html": [
       "<div><span style=\"color: green; font-weight: bold\">[INFO]: </span><span style=\"color: var(currentColor, white)\">Epoch 5900/10000:\n",
       "   Loss: 0.19713615538601414, Loss/Ndat: 0.0, Rel. loss: 2.8971178537354884e-05</span></div>"
      ],
      "text/plain": [
       "<IPython.core.display.HTML object>"
      ]
     },
     "metadata": {},
     "output_type": "display_data"
    },
    {
     "data": {
      "text/html": [
       "<div><span style=\"color: green; font-weight: bold\">[INFO]: </span><span style=\"color: var(currentColor, white)\">Epoch 6000/10000:\n",
       "   Loss: 0.19656799799666563, Loss/Ndat: 0.0, Rel. loss: 2.8755118718753224e-05</span></div>"
      ],
      "text/plain": [
       "<IPython.core.display.HTML object>"
      ]
     },
     "metadata": {},
     "output_type": "display_data"
    },
    {
     "data": {
      "text/html": [
       "<div><span style=\"color: green; font-weight: bold\">[INFO]: </span><span style=\"color: var(currentColor, white)\">Epoch 6100/10000:\n",
       "   Loss: 0.1960056757903223, Loss/Ndat: 0.0, Rel. loss: 2.8542806684617348e-05</span></div>"
      ],
      "text/plain": [
       "<IPython.core.display.HTML object>"
      ]
     },
     "metadata": {},
     "output_type": "display_data"
    },
    {
     "data": {
      "text/html": [
       "<div><span style=\"color: green; font-weight: bold\">[INFO]: </span><span style=\"color: var(currentColor, white)\">Epoch 6200/10000:\n",
       "   Loss: 0.19544907568312928, Loss/Ndat: 0.0, Rel. loss: 2.8334150236094215e-05</span></div>"
      ],
      "text/plain": [
       "<IPython.core.display.HTML object>"
      ]
     },
     "metadata": {},
     "output_type": "display_data"
    },
    {
     "data": {
      "text/html": [
       "<div><span style=\"color: green; font-weight: bold\">[INFO]: </span><span style=\"color: var(currentColor, white)\">Epoch 6300/10000:\n",
       "   Loss: 0.19489808766947053, Loss/Ndat: 0.0, Rel. loss: 2.8129059427806664e-05</span></div>"
      ],
      "text/plain": [
       "<IPython.core.display.HTML object>"
      ]
     },
     "metadata": {},
     "output_type": "display_data"
    },
    {
     "data": {
      "text/html": [
       "<div><span style=\"color: green; font-weight: bold\">[INFO]: </span><span style=\"color: var(currentColor, white)\">Epoch 6400/10000:\n",
       "   Loss: 0.19435260472800683, Loss/Ndat: 0.0, Rel. loss: 2.7927446541321015e-05</span></div>"
      ],
      "text/plain": [
       "<IPython.core.display.HTML object>"
      ]
     },
     "metadata": {},
     "output_type": "display_data"
    },
    {
     "data": {
      "text/html": [
       "<div><span style=\"color: green; font-weight: bold\">[INFO]: </span><span style=\"color: var(currentColor, white)\">Epoch 6500/10000:\n",
       "   Loss: 0.19381252273054048, Loss/Ndat: 0.0, Rel. loss: 2.7729226033029467e-05</span></div>"
      ],
      "text/plain": [
       "<IPython.core.display.HTML object>"
      ]
     },
     "metadata": {},
     "output_type": "display_data"
    },
    {
     "data": {
      "text/html": [
       "<div><span style=\"color: green; font-weight: bold\">[INFO]: </span><span style=\"color: var(currentColor, white)\">Epoch 6600/10000:\n",
       "   Loss: 0.19327774035361955, Loss/Ndat: 0.0, Rel. loss: 2.753431451973894e-05</span></div>"
      ],
      "text/plain": [
       "<IPython.core.display.HTML object>"
      ]
     },
     "metadata": {},
     "output_type": "display_data"
    },
    {
     "data": {
      "text/html": [
       "<div><span style=\"color: green; font-weight: bold\">[INFO]: </span><span style=\"color: var(currentColor, white)\">Epoch 6700/10000:\n",
       "   Loss: 0.1927481589928145, Loss/Ndat: 0.0, Rel. loss: 2.734263070279638e-05</span></div>"
      ],
      "text/plain": [
       "<IPython.core.display.HTML object>"
      ]
     },
     "metadata": {},
     "output_type": "display_data"
    },
    {
     "data": {
      "text/html": [
       "<div><span style=\"color: green; font-weight: bold\">[INFO]: </span><span style=\"color: var(currentColor, white)\">Epoch 6800/10000:\n",
       "   Loss: 0.1922236826795846, Loss/Ndat: 0.0, Rel. loss: 2.715409535823089e-05</span></div>"
      ],
      "text/plain": [
       "<IPython.core.display.HTML object>"
      ]
     },
     "metadata": {},
     "output_type": "display_data"
    },
    {
     "data": {
      "text/html": [
       "<div><span style=\"color: green; font-weight: bold\">[INFO]: </span><span style=\"color: var(currentColor, white)\">Epoch 6900/10000:\n",
       "   Loss: 0.19170421800066606, Loss/Ndat: 0.0, Rel. loss: 2.6968631292421214e-05</span></div>"
      ],
      "text/plain": [
       "<IPython.core.display.HTML object>"
      ]
     },
     "metadata": {},
     "output_type": "display_data"
    },
    {
     "data": {
      "text/html": [
       "<div><span style=\"color: green; font-weight: bold\">[INFO]: </span><span style=\"color: var(currentColor, white)\">Epoch 7000/10000:\n",
       "   Loss: 0.19118967401991532, Loss/Ndat: 0.0, Rel. loss: 2.6786163293113505e-05</span></div>"
      ],
      "text/plain": [
       "<IPython.core.display.HTML object>"
      ]
     },
     "metadata": {},
     "output_type": "display_data"
    },
    {
     "data": {
      "text/html": [
       "<div><span style=\"color: green; font-weight: bold\">[INFO]: </span><span style=\"color: var(currentColor, white)\">Epoch 7100/10000:\n",
       "   Loss: 0.1906799622025336, Loss/Ndat: 0.0, Rel. loss: 2.6606618090988746e-05</span></div>"
      ],
      "text/plain": [
       "<IPython.core.display.HTML object>"
      ]
     },
     "metadata": {},
     "output_type": "display_data"
    },
    {
     "data": {
      "text/html": [
       "<div><span style=\"color: green; font-weight: bold\">[INFO]: </span><span style=\"color: var(currentColor, white)\">Epoch 7200/10000:\n",
       "   Loss: 0.19017499634161145, Loss/Ndat: 0.0, Rel. loss: 2.6429924328763053e-05</span></div>"
      ],
      "text/plain": [
       "<IPython.core.display.HTML object>"
      ]
     },
     "metadata": {},
     "output_type": "display_data"
    },
    {
     "data": {
      "text/html": [
       "<div><span style=\"color: green; font-weight: bold\">[INFO]: </span><span style=\"color: var(currentColor, white)\">Epoch 7300/10000:\n",
       "   Loss: 0.1896746924869212, Loss/Ndat: 0.0, Rel. loss: 2.6256012527412034e-05</span></div>"
      ],
      "text/plain": [
       "<IPython.core.display.HTML object>"
      ]
     },
     "metadata": {},
     "output_type": "display_data"
    },
    {
     "data": {
      "text/html": [
       "<div><span style=\"color: green; font-weight: bold\">[INFO]: </span><span style=\"color: var(currentColor, white)\">Epoch 7400/10000:\n",
       "   Loss: 0.1891789688759037, Loss/Ndat: 0.0, Rel. loss: 2.608481502244768e-05</span></div>"
      ],
      "text/plain": [
       "<IPython.core.display.HTML object>"
      ]
     },
     "metadata": {},
     "output_type": "display_data"
    },
    {
     "data": {
      "text/html": [
       "<div><span style=\"color: green; font-weight: bold\">[INFO]: </span><span style=\"color: var(currentColor, white)\">Epoch 7500/10000:\n",
       "   Loss: 0.1886877458667799, Loss/Ndat: 0.0, Rel. loss: 2.5916265941161593e-05</span></div>"
      ],
      "text/plain": [
       "<IPython.core.display.HTML object>"
      ]
     },
     "metadata": {},
     "output_type": "display_data"
    },
    {
     "data": {
      "text/html": [
       "<div><span style=\"color: green; font-weight: bold\">[INFO]: </span><span style=\"color: var(currentColor, white)\">Epoch 7600/10000:\n",
       "   Loss: 0.18820094587372724, Loss/Ndat: 0.0, Rel. loss: 2.575030117009125e-05</span></div>"
      ],
      "text/plain": [
       "<IPython.core.display.HTML object>"
      ]
     },
     "metadata": {},
     "output_type": "display_data"
    },
    {
     "data": {
      "text/html": [
       "<div><span style=\"color: green; font-weight: bold\">[INFO]: </span><span style=\"color: var(currentColor, white)\">Epoch 7700/10000:\n",
       "   Loss: 0.18771849330407103, Loss/Ndat: 0.0, Rel. loss: 2.5586858296668813e-05</span></div>"
      ],
      "text/plain": [
       "<IPython.core.display.HTML object>"
      ]
     },
     "metadata": {},
     "output_type": "display_data"
    },
    {
     "data": {
      "text/html": [
       "<div><span style=\"color: green; font-weight: bold\">[INFO]: </span><span style=\"color: var(currentColor, white)\">Epoch 7800/10000:\n",
       "   Loss: 0.18724031449742046, Loss/Ndat: 0.0, Rel. loss: 2.542587658206134e-05</span></div>"
      ],
      "text/plain": [
       "<IPython.core.display.HTML object>"
      ]
     },
     "metadata": {},
     "output_type": "display_data"
    },
    {
     "data": {
      "text/html": [
       "<div><span style=\"color: green; font-weight: bold\">[INFO]: </span><span style=\"color: var(currentColor, white)\">Epoch 7900/10000:\n",
       "   Loss: 0.18676633766669903, Loss/Ndat: 0.0, Rel. loss: 2.5267296944172393e-05</span></div>"
      ],
      "text/plain": [
       "<IPython.core.display.HTML object>"
      ]
     },
     "metadata": {},
     "output_type": "display_data"
    },
    {
     "data": {
      "text/html": [
       "<div><span style=\"color: green; font-weight: bold\">[INFO]: </span><span style=\"color: var(currentColor, white)\">Epoch 8000/10000:\n",
       "   Loss: 0.18629649284102678, Loss/Ndat: 0.0, Rel. loss: 2.5111061869138092e-05</span></div>"
      ],
      "text/plain": [
       "<IPython.core.display.HTML object>"
      ]
     },
     "metadata": {},
     "output_type": "display_data"
    },
    {
     "data": {
      "text/html": [
       "<div><span style=\"color: green; font-weight: bold\">[INFO]: </span><span style=\"color: var(currentColor, white)\">Epoch 8100/10000:\n",
       "   Loss: 0.1858307118103723, Loss/Ndat: 0.0, Rel. loss: 2.4957115423400108e-05</span></div>"
      ],
      "text/plain": [
       "<IPython.core.display.HTML object>"
      ]
     },
     "metadata": {},
     "output_type": "display_data"
    },
    {
     "data": {
      "text/html": [
       "<div><span style=\"color: green; font-weight: bold\">[INFO]: </span><span style=\"color: var(currentColor, white)\">Epoch 8200/10000:\n",
       "   Loss: 0.18536892807195687, Loss/Ndat: 0.0, Rel. loss: 2.4805403191694235e-05</span></div>"
      ],
      "text/plain": [
       "<IPython.core.display.HTML object>"
      ]
     },
     "metadata": {},
     "output_type": "display_data"
    },
    {
     "data": {
      "text/html": [
       "<div><span style=\"color: green; font-weight: bold\">[INFO]: </span><span style=\"color: var(currentColor, white)\">Epoch 8300/10000:\n",
       "   Loss: 0.1849110767783328, Loss/Ndat: 0.0, Rel. loss: 2.4655872237750397e-05</span></div>"
      ],
      "text/plain": [
       "<IPython.core.display.HTML object>"
      ]
     },
     "metadata": {},
     "output_type": "display_data"
    },
    {
     "data": {
      "text/html": [
       "<div><span style=\"color: green; font-weight: bold\">[INFO]: </span><span style=\"color: var(currentColor, white)\">Epoch 8400/10000:\n",
       "   Loss: 0.18445709468709903, Loss/Ndat: 0.0, Rel. loss: 2.4508471095259878e-05</span></div>"
      ],
      "text/plain": [
       "<IPython.core.display.HTML object>"
      ]
     },
     "metadata": {},
     "output_type": "display_data"
    },
    {
     "data": {
      "text/html": [
       "<div><span style=\"color: green; font-weight: bold\">[INFO]: </span><span style=\"color: var(currentColor, white)\">Epoch 8500/10000:\n",
       "   Loss: 0.18400692011221148, Loss/Ndat: 0.0, Rel. loss: 2.436314969754958e-05</span></div>"
      ],
      "text/plain": [
       "<IPython.core.display.HTML object>"
      ]
     },
     "metadata": {},
     "output_type": "display_data"
    },
    {
     "data": {
      "text/html": [
       "<div><span style=\"color: green; font-weight: bold\">[INFO]: </span><span style=\"color: var(currentColor, white)\">Epoch 8600/10000:\n",
       "   Loss: 0.18356049287682197, Loss/Ndat: 0.0, Rel. loss: 2.42198593523383e-05</span></div>"
      ],
      "text/plain": [
       "<IPython.core.display.HTML object>"
      ]
     },
     "metadata": {},
     "output_type": "display_data"
    },
    {
     "data": {
      "text/html": [
       "<div><span style=\"color: green; font-weight: bold\">[INFO]: </span><span style=\"color: var(currentColor, white)\">Epoch 8700/10000:\n",
       "   Loss: 0.18311775426762072, Loss/Ndat: 0.0, Rel. loss: 2.407855273362582e-05</span></div>"
      ],
      "text/plain": [
       "<IPython.core.display.HTML object>"
      ]
     },
     "metadata": {},
     "output_type": "display_data"
    },
    {
     "data": {
      "text/html": [
       "<div><span style=\"color: green; font-weight: bold\">[INFO]: </span><span style=\"color: var(currentColor, white)\">Epoch 8800/10000:\n",
       "   Loss: 0.18267864699062641, Loss/Ndat: 0.0, Rel. loss: 2.393918380857258e-05</span></div>"
      ],
      "text/plain": [
       "<IPython.core.display.HTML object>"
      ]
     },
     "metadata": {},
     "output_type": "display_data"
    },
    {
     "data": {
      "text/html": [
       "<div><span style=\"color: green; font-weight: bold\">[INFO]: </span><span style=\"color: var(currentColor, white)\">Epoch 8900/10000:\n",
       "   Loss: 0.18224311512838193, Loss/Ndat: 0.0, Rel. loss: 2.380170783205062e-05</span></div>"
      ],
      "text/plain": [
       "<IPython.core.display.HTML object>"
      ]
     },
     "metadata": {},
     "output_type": "display_data"
    },
    {
     "data": {
      "text/html": [
       "<div><span style=\"color: green; font-weight: bold\">[INFO]: </span><span style=\"color: var(currentColor, white)\">Epoch 9000/10000:\n",
       "   Loss: 0.18181110409851428, Loss/Ndat: 0.0, Rel. loss: 2.366608129283298e-05</span></div>"
      ],
      "text/plain": [
       "<IPython.core.display.HTML object>"
      ]
     },
     "metadata": {},
     "output_type": "display_data"
    },
    {
     "data": {
      "text/html": [
       "<div><span style=\"color: green; font-weight: bold\">[INFO]: </span><span style=\"color: var(currentColor, white)\">Epoch 9100/10000:\n",
       "   Loss: 0.18138256061361785, Loss/Ndat: 0.0, Rel. loss: 2.3532261913497358e-05</span></div>"
      ],
      "text/plain": [
       "<IPython.core.display.HTML object>"
      ]
     },
     "metadata": {},
     "output_type": "display_data"
    },
    {
     "data": {
      "text/html": [
       "<div><span style=\"color: green; font-weight: bold\">[INFO]: </span><span style=\"color: var(currentColor, white)\">Epoch 9200/10000:\n",
       "   Loss: 0.18095743264242536, Loss/Ndat: 0.0, Rel. loss: 2.3400208565729807e-05</span></div>"
      ],
      "text/plain": [
       "<IPython.core.display.HTML object>"
      ]
     },
     "metadata": {},
     "output_type": "display_data"
    },
    {
     "data": {
      "text/html": [
       "<div><span style=\"color: green; font-weight: bold\">[INFO]: </span><span style=\"color: var(currentColor, white)\">Epoch 9300/10000:\n",
       "   Loss: 0.18053566937221216, Loss/Ndat: 0.0, Rel. loss: 2.3269881299850348e-05</span></div>"
      ],
      "text/plain": [
       "<IPython.core.display.HTML object>"
      ]
     },
     "metadata": {},
     "output_type": "display_data"
    },
    {
     "data": {
      "text/html": [
       "<div><span style=\"color: green; font-weight: bold\">[INFO]: </span><span style=\"color: var(currentColor, white)\">Epoch 9400/10000:\n",
       "   Loss: 0.18011722117241763, Loss/Ndat: 0.0, Rel. loss: 2.3141241264131267e-05</span></div>"
      ],
      "text/plain": [
       "<IPython.core.display.HTML object>"
      ]
     },
     "metadata": {},
     "output_type": "display_data"
    },
    {
     "data": {
      "text/html": [
       "<div><span style=\"color: green; font-weight: bold\">[INFO]: </span><span style=\"color: var(currentColor, white)\">Epoch 9500/10000:\n",
       "   Loss: 0.1797020395594254, Loss/Ndat: 0.0, Rel. loss: 2.301425070706726e-05</span></div>"
      ],
      "text/plain": [
       "<IPython.core.display.HTML object>"
      ]
     },
     "metadata": {},
     "output_type": "display_data"
    },
    {
     "data": {
      "text/html": [
       "<div><span style=\"color: green; font-weight: bold\">[INFO]: </span><span style=\"color: var(currentColor, white)\">Epoch 9600/10000:\n",
       "   Loss: 0.17929007716248435, Loss/Ndat: 0.0, Rel. loss: 2.288887292978514e-05</span></div>"
      ],
      "text/plain": [
       "<IPython.core.display.HTML object>"
      ]
     },
     "metadata": {},
     "output_type": "display_data"
    },
    {
     "data": {
      "text/html": [
       "<div><span style=\"color: green; font-weight: bold\">[INFO]: </span><span style=\"color: var(currentColor, white)\">Epoch 9700/10000:\n",
       "   Loss: 0.17888128769072176, Loss/Ndat: 0.0, Rel. loss: 2.276507225703105e-05</span></div>"
      ],
      "text/plain": [
       "<IPython.core.display.HTML object>"
      ]
     },
     "metadata": {},
     "output_type": "display_data"
    },
    {
     "data": {
      "text/html": [
       "<div><span style=\"color: green; font-weight: bold\">[INFO]: </span><span style=\"color: var(currentColor, white)\">Epoch 9800/10000:\n",
       "   Loss: 0.17847562590121918, Loss/Ndat: 0.0, Rel. loss: 2.264281402661537e-05</span></div>"
      ],
      "text/plain": [
       "<IPython.core.display.HTML object>"
      ]
     },
     "metadata": {},
     "output_type": "display_data"
    },
    {
     "data": {
      "text/html": [
       "<div><span style=\"color: green; font-weight: bold\">[INFO]: </span><span style=\"color: var(currentColor, white)\">Epoch 9900/10000:\n",
       "   Loss: 0.1780730475681239, Loss/Ndat: 0.0, Rel. loss: 2.252206454980098e-05</span></div>"
      ],
      "text/plain": [
       "<IPython.core.display.HTML object>"
      ]
     },
     "metadata": {},
     "output_type": "display_data"
    },
    {
     "data": {
      "text/html": [
       "<div><span style=\"color: green; font-weight: bold\">[INFO]: </span><span style=\"color: var(currentColor, white)\">Epoch 10000/10000:\n",
       "   Loss: 0.17767350945275256, Loss/Ndat: 0.0, Rel. loss: 2.240279106767582e-05</span></div>"
      ],
      "text/plain": [
       "<IPython.core.display.HTML object>"
      ]
     },
     "metadata": {},
     "output_type": "display_data"
    },
    {
     "name": "stdout",
     "output_type": "stream",
     "text": [
      "Maximum number of iterations reached.\n"
     ]
    }
   ],
   "source": [
    "from dlt.log import setup_logger\n",
    "\n",
    "# Set up logger for notebook display\n",
    "logger = setup_logger('dlt.model')\n",
    "\n",
    "# Create a covariance matrix with the proper MultiIndex structure\n",
    "# Create the identity matrix\n",
    "if add_noise:\n",
    "  cov_matrix = np.diag([std for _ in range(Ndat)])\n",
    "else:\n",
    "  cov_matrix = np.eye(len(x))\n",
    "\n",
    "learning_rate = 1.e-3\n",
    "epochs = 10000\n",
    "\n",
    "# Create index with 'dataset' level as required by the function\n",
    "arrays = [\n",
    "        [\"set\" for _ in range(Ndat)],\n",
    "        [\"dataset\" for _ in range(Ndat)],\n",
    "    ]\n",
    "multi_index = pd.MultiIndex.from_arrays(arrays, names=(\"group\", \"dataset\"))\n",
    "\n",
    "# Create DataFrame with proper MultiIndex structure\n",
    "Cinv = pd.DataFrame(cov_matrix, index=multi_index, columns=multi_index)\n",
    "\n",
    "# Create a simple FK table (identity matrix in this toy model case)\n",
    "FK = np.eye(len(x))\n",
    "FK_dict = {\"dataset\": FK}\n",
    "data_dict = {\"dataset\": y_noisy}\n",
    "\n",
    "# Generate the proper loss function\n",
    "mse_loss = generate_mse_loss(Cinv)\n",
    "\n",
    "# Train using the custom method instead of model.fit()\n",
    "Model.train_network_gd(\n",
    "    data=data_dict,\n",
    "    FK_dict=FK_dict,\n",
    "    loss_func=mse_loss,\n",
    "    learning_rate=learning_rate,\n",
    "    tol=0.0,\n",
    "    logging=True,\n",
    "    callback=True,\n",
    "    max_epochs=epochs,\n",
    "    optimizer=\"SGD\"\n",
    ")"
   ]
  },
  {
   "cell_type": "code",
   "execution_count": 12,
   "id": "cb411dd3",
   "metadata": {},
   "outputs": [
    {
     "data": {
      "image/png": "[encoded data removed]",
      "text/plain": [
       "<Figure size 640x480 with 1 Axes>"
      ]
     },
     "metadata": {},
     "output_type": "display_data"
    }
   ],
   "source": [
    "trained_predictions = Model.predict().numpy().squeeze()\n",
    "_ = plt.scatter(x, y_noisy, label='Data', color='C1', alpha=0.5, s=10)\n",
    "_ = plt.plot(x, y_true, linewidth=1, color='orange', label='True function')\n",
    "_ = plt.plot(x, trained_predictions, linewidth=1, color='blue', label='Trained model')\n",
    "_ = plt.legend()\n",
    "_ = plt.title('Trained model with pure Gradient Descent')\n",
    "_ = plt.show()"
   ]
  },
  {
   "cell_type": "markdown",
   "id": "3a149f77",
   "metadata": {},
   "source": [
    "As explained in the paper, the flow equation can be integrated analytically at order $\\mathcal{O}(1/n)$. Given a vector of targets $y$, the model prediction at time $t$ can be written as\n",
    "$$\n",
    "  T(t) = T(0) + \\left( \\mathbb{I} - e^{-\\Theta \\, \\eta \\, t} \\right) \\, (y - T(0)) \\,,\n",
    "$$\n",
    "where $\\Theta$ is the NTK, and $\\eta$ is the learning rate. This expression can be evaluated if projected into the eigenspace of the NTK\n",
    "$$\n",
    "\\Theta z^{(k)} = \\lambda^{(k)} z^{(k)}\n",
    "$$\n",
    "$$\n",
    "T(t) = \\sum_{k=1}^{\\textrm{eig}(\\Theta)} \\widetilde{T}_0^{(k)} \\, v^{(k)} \n",
    "+ \\sum_{k=1}^{\\textrm{eig}(\\Theta)} \\left( 1 - e^{-\\lambda^{(k)} \\, \\eta \\, t} \\right) \\, (\\widetilde{y}^{(k)} - \\widetilde{T}_0^{(k)}) \\, v^{(k)} \\,,\n",
    "$$\n",
    "where $v^{(k)}$ is the $k$-th eigenvector relative to the eigenvalue $\\lambda^{(k)}$ of the NTK. Quantities decorated with a tilde are the components in the NTK basis of the original vector, for instance\n",
    "$$\n",
    "\\widetilde{T}_0^{(k)} = T(0) \\cdot v^{(k)} \\,.\n",
    "$$\n",
    "The function returns an array containing the different components and the relative eigenvector, as well as the sum of all components as shown in the equation above."
   ]
  },
  {
   "cell_type": "code",
   "execution_count": 13,
   "id": "b20216da",
   "metadata": {},
   "outputs": [],
   "source": [
    "# Compute NTK decomposition\n",
    "eigval, eigvec = np.linalg.eigh(ntk)\n",
    "eigval = eigval[::-1]\n",
    "eigvec = eigvec[:, ::-1]\n",
    "\n",
    "r = 50\n",
    "\n",
    "Lambda_perp = np.diag(eigval[:r])\n",
    "Z_perp = eigvec[:, :r]\n",
    "Z_par = eigvec[:, r:]\n",
    "\n",
    "P_perp = Z_perp @ Z_perp.T\n",
    "P_par = Z_par @ Z_par.T\n",
    "\n",
    "f0_par = P_par @ f0\n",
    "f0_perp = Z_perp.T @ f0\n",
    "\n",
    "B = Lambda_perp @ ( -Z_perp.T @ Cinv @ Z_par @ Z_par.T @ f0 + Z_perp.T @ Cinv @ y_noisy)"
   ]
  },
  {
   "cell_type": "code",
   "execution_count": 14,
   "id": "2b01af02",
   "metadata": {},
   "outputs": [
    {
     "data": {
      "image/png": "[encoded data removed]",
      "text/plain": [
       "<Figure size 1000x600 with 1 Axes>"
      ]
     },
     "metadata": {},
     "output_type": "display_data"
    }
   ],
   "source": [
    "def analytical_solution(t):\n",
    "  lam = np.diag(Lambda_perp)\n",
    "  ft_perp = [np.exp(-t * lam[i]) * f0_perp[i] + (1 - np.exp(-lam[i] * t)) * B[i] / lam[i] for i in range(lam.size)]\n",
    "  return Z_perp @ ft_perp + f0_par\n",
    "    \n",
    "# Simple check at initialization\n",
    "init_reconstr = analytical_solution(0)\n",
    "\n",
    "fig, ax = plt.subplots(figsize=(10,6))\n",
    "_ = ax.plot(x, f0, label=\"Model at initialization\", color='red', alpha=0.4)\n",
    "_ = ax.plot(x, init_reconstr, color='green', label='Reconstruction at t=0')\n",
    "ax.set_title(f\"Check at t = 0\")\n",
    "ax.set_xlabel(r'$x$')\n",
    "ax.set_ylabel(r'$T(t)$')\n",
    "_ = ax.legend()"
   ]
  },
  {
   "cell_type": "code",
   "execution_count": 16,
   "id": "5a7cb66b",
   "metadata": {},
   "outputs": [
    {
     "data": {
      "text/plain": [
       "<matplotlib.legend.Legend at 0x2acade620>"
      ]
     },
     "execution_count": 16,
     "metadata": {},
     "output_type": "execute_result"
    },
    {
     "data": {
      "image/png": "[encoded data removed]",
      "text/plain": [
       "<Figure size 1000x600 with 1 Axes>"
      ]
     },
     "metadata": {},
     "output_type": "display_data"
    }
   ],
   "source": [
    "epochs = 1e5\n",
    "t = epochs * learning_rate\n",
    "T_t = analytical_solution(t)\n",
    "\n",
    "fig, ax = plt.subplots(figsize=(10,6))\n",
    "ax.scatter(x, y_noisy, label=\"Data\", color='C1', alpha=0.4)\n",
    "ax.plot(x, trained_predictions, label=\"Trained model\", color='blue', alpha=0.4)\n",
    "ax.plot(x, T_t, color='green', label='Analytical solution')\n",
    "ax.set_title(f\"Analytical solution after t = {t}\")\n",
    "ax.set_xlabel(r'$x$')\n",
    "ax.set_ylabel(r'$T(t)$')\n",
    "ax.legend()"
   ]
  },
  {
   "cell_type": "markdown",
   "id": "30d1f5d7",
   "metadata": {},
   "source": [
    "Comparison in function of the architecture"
   ]
  },
  {
   "cell_type": "code",
   "execution_count": 11,
   "id": "d6c1d3d3",
   "metadata": {},
   "outputs": [
    {
     "ename": "IndentationError",
     "evalue": "unexpected indent (2013045770.py, line 28)",
     "output_type": "error",
     "traceback": [
      "\u001b[0;36m  Cell \u001b[0;32mIn[11], line 28\u001b[0;36m\u001b[0m\n\u001b[0;31m    _, T_t = ntk_decomposition(t, model, x, learning_rate)\u001b[0m\n\u001b[0m    ^\u001b[0m\n\u001b[0;31mIndentationError\u001b[0m\u001b[0;31m:\u001b[0m unexpected indent\n"
     ]
    }
   ],
   "source": [
    "architectures = [\n",
    "  [5],\n",
    "  [10],\n",
    "  [28],\n",
    "  [100]\n",
    "]\n",
    "\n",
    "shift = 3\n",
    "fig, (ax1, ax2) = plt.subplots(2, 1, sharex=True,figsize=(10,6), gridspec_kw={'height_ratios': [3, 1], 'hspace': 0})\n",
    "ax1.plot(x, y_noisy, label=\"True function\", color='red')\n",
    "ax2.plot(x, [1 for _ in range(x.size)], color='red')\n",
    "\n",
    "for arch in architectures:\n",
    "  Model = PDFmodel(\n",
    "          dense_layer='Dense',\n",
    "          input=x,\n",
    "          outputs=1,\n",
    "          architecture=architectures,\n",
    "          activations=['tanh'],\n",
    "          kernel_initializer='GlorotNormal',\n",
    "          user_ki_args=None,\n",
    "          seed=seed,\n",
    "          init_bias=False,\n",
    "          dtype=np.float64)\n",
    "Model.model.summary()\n",
    "ntk = Model.compute_ntk()\n",
    "f0 = Model.predict().numpy().squeeze()\n",
    "  _, T_t = ntk_decomposition(t, model, x, learning_rate)\n",
    "  ax1.plot(x, T_t, label=str(arch),  linestyle='dotted')\n",
    "  ax2.plot(x, (T_t + shift) / (y_noisy + shift ),  linestyle='dotted')\n",
    "\n",
    "\n",
    "ax1.set_title(f\"Integrated solutions for different architectures at t = {t}\")\n",
    "ax2.set_xlabel(r'$x$')\n",
    "ax1.set_ylabel(r'$T(t)$')\n",
    "ax2.set_ylabel(r'Ratio to $y$')\n",
    "ax1.legend()\n",
    "plt.tight_layout()"
   ]
  }
 ],
 "metadata": {
  "kernelspec": {
   "display_name": "dlt",
   "language": "python",
   "name": "python3"
  },
  "language_info": {
   "codemirror_mode": {
    "name": "ipython",
    "version": 3
   },
   "file_extension": ".py",
   "mimetype": "text/x-python",
   "name": "python",
   "nbconvert_exporter": "python",
   "pygments_lexer": "ipython3",
   "version": "3.10.17"
  }
 },
 "nbformat": 4,
 "nbformat_minor": 5
}
