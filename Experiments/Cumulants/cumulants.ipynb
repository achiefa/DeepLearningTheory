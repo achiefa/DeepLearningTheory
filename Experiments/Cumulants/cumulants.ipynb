{
 "cells": [
  {
   "cell_type": "code",
   "execution_count": 1,
   "metadata": {},
   "outputs": [],
   "source": [
    "from matplotlib import pyplot as plt\n",
    "import matplotlib\n",
    "import numpy as np\n",
    "from tqdm import tqdm\n",
    "import tensorflow as tf\n",
    "tf.get_logger().setLevel('ERROR')\n",
    "import sys\n",
    "sys.path.append(\"/Users/s2569857/Codes/DeepLearningTheory/core\")\n",
    "import empirical_stat as stat"
   ]
  },
  {
   "cell_type": "code",
   "execution_count": 2,
   "metadata": {},
   "outputs": [],
   "source": [
    "np.random.seed(0)"
   ]
  },
  {
   "cell_type": "markdown",
   "metadata": {},
   "source": [
    "# Configuration variables"
   ]
  },
  {
   "cell_type": "code",
   "execution_count": 3,
   "metadata": {},
   "outputs": [],
   "source": [
    "# Number of networks to initialize with random parameters\n",
    "number_of_networks = 100\n",
    "\n",
    "# input xgrid for which to produce the corresponding outputs\n",
    "# reshape is needed for model input\n",
    "input_xgrid = np.linspace(0.0, 1.0, num=150).reshape(-1,1)\n",
    "\n",
    "# architecture\n",
    "# Starting from the first deep layer (input dim = 1)\n",
    "architecture = [25,20,8]\n",
    "\n",
    "# activation function\n",
    "act_func = \"tanh\"\n",
    "\n",
    "# output function\n",
    "output_func = \"linear\"\n",
    "\n",
    "# Seed for the initialisation\n",
    "seed = 1244235632"
   ]
  },
  {
   "cell_type": "code",
   "execution_count": 4,
   "metadata": {},
   "outputs": [],
   "source": [
    "def generate_sequential_model(outputs=1, \n",
    "                   input_layer=None, \n",
    "                   nlayers=2, \n",
    "                   units=[100,100],\n",
    "                   train=False,\n",
    "                   seed = 12345):\n",
    "  \"\"\"\n",
    "  Create a tensorflow sequential model where all intermediate layers have the same size\n",
    "  This function accepts an already constructed layer as the input.\n",
    "\n",
    "  All hidden layers will have the same number of nodes for simplicity\n",
    "\n",
    "  Arguments:\n",
    "      outputs: int (default=1)\n",
    "          number of output nodes (how many flavours are we training)\n",
    "      input_layer: KerasTensor (default=None)\n",
    "          if given, sets the input layer of the sequential model\n",
    "      nlayers: int\n",
    "          number of hidden layers of the network\n",
    "      units: int\n",
    "          number of nodes of every hidden layer in the network\n",
    "      activation: str\n",
    "          activation function to be used by the hidden layers (ex: 'tanh', 'sigmoid', 'linear')\n",
    "  \"\"\"\n",
    "  if len(units) != nlayers:\n",
    "      raise Exception(\"The length of units must match the number of layers.\")\n",
    "  \n",
    "  model = tf.keras.models.Sequential(name=\"pdf\")\n",
    "  if input_layer is not None:\n",
    "      model.add(input_layer)\n",
    "  for layer in range(nlayers):\n",
    "      model.add(tf.keras.layers.Dense(units[layer], \n",
    "                                      activation=act_func,\n",
    "                                      kernel_initializer=tf.keras.initializers.GlorotNormal(seed=seed - layer),\n",
    "                                      #tf.keras.initializers.HeNormal(seed = seed - nlayers)\n",
    "                                      #bias_initializer=tf.keras.initializers.RandomNormal(mean=0.0, stddev=1, seed=seed - layer)\n",
    "                                      ),\n",
    "      )\n",
    "  model.add(tf.keras.layers.Dense(outputs, \n",
    "                                  activation=output_func, \n",
    "                                  kernel_initializer=tf.keras.initializers.GlorotNormal(seed=seed - nlayers)\n",
    "                                  #tf.keras.initializers.HeNormal(seed = seed - nlayers),\n",
    "                                  #bias_initializer=tf.keras.initializers.RandomNormal(mean=0.0, stddev=1, seed=seed - nlayers)\n",
    "                                  ))\n",
    "\n",
    "  if train:\n",
    "    opt = tf.keras.optimizers.Nadam()\n",
    "    model.compile(opt, loss=\"mse\")\n",
    "\n",
    "  return model"
   ]
  },
  {
   "cell_type": "code",
   "execution_count": 5,
   "metadata": {},
   "outputs": [],
   "source": [
    "nn_models = []\n",
    "for _ in range(number_of_networks):\n",
    "  nn_models.append(\n",
    "    generate_sequential_model(\n",
    "                    outputs=architecture[-1], \n",
    "                    nlayers=len(architecture)-1, \n",
    "                    units=architecture[:-1],\n",
    "                    seed = seed + _),\n",
    "  )\n",
    "\n",
    "model_outputs = np.array(\n",
    "    [nn_models[rep](tf.convert_to_tensor(input_xgrid)).numpy() for rep in range(len(nn_models))]\n",
    "    )"
   ]
  },
  {
   "cell_type": "code",
   "execution_count": 6,
   "metadata": {},
   "outputs": [
    {
     "name": "stdout",
     "output_type": "stream",
     "text": [
      "Output number 0\n",
      "_____________________\n",
      "The maximum value of k4 is:  0.0\n",
      "The minimum value of k4 is:  -0.0002984600054488952\n",
      "Output number 1\n",
      "_____________________\n",
      "The maximum value of k4 is:  0.005481258903872691\n",
      "The minimum value of k4 is:  0.0\n",
      "Output number 2\n",
      "_____________________\n",
      "The maximum value of k4 is:  0.005039175844287459\n",
      "The minimum value of k4 is:  0.0\n",
      "Output number 3\n",
      "_____________________\n",
      "The maximum value of k4 is:  0.004126040261288299\n",
      "The minimum value of k4 is:  0.0\n",
      "Output number 4\n",
      "_____________________\n",
      "The maximum value of k4 is:  0.002657879796518759\n",
      "The minimum value of k4 is:  0.0\n",
      "Output number 5\n",
      "_____________________\n",
      "The maximum value of k4 is:  0.0\n",
      "The minimum value of k4 is:  -0.00597855125799843\n",
      "Output number 6\n",
      "_____________________\n",
      "The maximum value of k4 is:  0.0\n",
      "The minimum value of k4 is:  -0.0032179511505071104\n",
      "Output number 7\n",
      "_____________________\n",
      "The maximum value of k4 is:  0.0\n",
      "The minimum value of k4 is:  -0.002809243915659277\n"
     ]
    }
   ],
   "source": [
    "for out in range(architecture[-1]):\n",
    "  try:\n",
    "    k4\n",
    "  except NameError:\n",
    "    m2 = stat.compute_m2(model_outputs)[:,out,:,out]\n",
    "    m4 = stat.compute_m4(model_outputs, out)\n",
    "    k4 = stat.compute_k4(m2, m4, input_xgrid.size)\n",
    "    print(f\"Output number {out}\")\n",
    "    print(\"_____________________\")\n",
    "    print(\"The maximum value of k4 is: \", k4.max())\n",
    "    print(\"The minimum value of k4 is: \", k4.min())\n",
    "  else:\n",
    "    del k4\n",
    "    m2 = stat.compute_m2(model_outputs)[:,out,:,out]\n",
    "    m4 = stat.compute_m4(model_outputs, out)\n",
    "    k4 = stat.compute_k4(m2, m4, input_xgrid.size)\n",
    "    print(f\"Output number {out}\")\n",
    "    print(\"_____________________\")\n",
    "    print(\"The maximum value of k4 is: \", k4.max())\n",
    "    print(\"The minimum value of k4 is: \", k4.min())\n",
    "  del m2, m4"
   ]
  },
  {
   "cell_type": "markdown",
   "metadata": {},
   "source": [
    "Output number 0\n",
    "_____________________\n",
    "The maximum value of k4 is:  0.0005958729860697926\n",
    "The minimum value of k4 is:  0.0"
   ]
  },
  {
   "cell_type": "code",
   "execution_count": 7,
   "metadata": {},
   "outputs": [
    {
     "data": {
      "text/plain": [
       "0.0"
      ]
     },
     "execution_count": 7,
     "metadata": {},
     "output_type": "execute_result"
    }
   ],
   "source": [
    "6.63434157809669e-05 - 6.63434157809669e-05"
   ]
  },
  {
   "cell_type": "code",
   "execution_count": null,
   "metadata": {},
   "outputs": [],
   "source": []
  }
 ],
 "metadata": {
  "kernelspec": {
   "display_name": "nnpdf",
   "language": "python",
   "name": "python3"
  },
  "language_info": {
   "codemirror_mode": {
    "name": "ipython",
    "version": 3
   },
   "file_extension": ".py",
   "mimetype": "text/x-python",
   "name": "python",
   "nbconvert_exporter": "python",
   "pygments_lexer": "ipython3",
   "version": "3.12.4"
  },
  "orig_nbformat": 4
 },
 "nbformat": 4,
 "nbformat_minor": 2
}
