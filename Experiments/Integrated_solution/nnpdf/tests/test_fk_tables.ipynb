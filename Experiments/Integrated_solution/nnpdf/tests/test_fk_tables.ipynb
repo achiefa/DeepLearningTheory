{
 "cells": [
  {
   "cell_type": "code",
   "execution_count": 1,
   "metadata": {},
   "outputs": [
    {
     "name": "stdout",
     "output_type": "stream",
     "text": [
      "Using Keras backend\n"
     ]
    }
   ],
   "source": [
    "from validphys.api import API\n",
    "import sys\n",
    "\n",
    "# Add the path to the library folder\n",
    "sys.path.append('../lib')\n",
    "\n",
    "from utils import XGRID, build_fk_matrix, regularize_matrix\n",
    "from model import PDFmodel, generate_mse_loss\n",
    "from gen_dicts import generate_dicts\n",
    "from plot_utils import plot_eigvals\n",
    "from validphys.api import API\n",
    "\n",
    "from validphys.pineparser import pineappl_reader\n",
    "from n3fit.layers.observable import compute_float_mask\n",
    "from n3fit.backends import operations as op\n",
    "from n3fit.layers import DIS\n",
    "\n",
    "from collections import defaultdict, namedtuple\n",
    "import numpy as np\n",
    "import tensorflow as tf"
   ]
  },
  {
   "cell_type": "code",
   "execution_count": 7,
   "metadata": {},
   "outputs": [],
   "source": [
    "# List of DIS dataset\n",
    "dataset_inputs = [\n",
    "  #{'dataset': 'NMC_NC_NOTFIXED_DW_EM-F2', 'frac': 0.75, 'variant': 'legacy'},\n",
    "  {'dataset': 'NMC_NC_NOTFIXED_P_EM-SIGMARED', 'frac': 0.75, 'variant': 'legacy'},\n",
    "  {'dataset': 'SLAC_NC_NOTFIXED_P_DW_EM-F2', 'frac': 0.75, 'variant': 'legacy'},\n",
    "  {'dataset': 'SLAC_NC_NOTFIXED_D_DW_EM-F2', 'frac': 0.75, 'variant': 'legacy'},\n",
    "  {'dataset': 'BCDMS_NC_NOTFIXED_P_DW_EM-F2', 'frac': 0.75, 'variant': 'legacy'},\n",
    "  {'dataset': 'BCDMS_NC_NOTFIXED_D_DW_EM-F2', 'frac': 0.75, 'variant': 'legacy'},\n",
    "  {'dataset': 'CHORUS_CC_NOTFIXED_PB_DW_NU-SIGMARED', 'frac': 0.75, 'variant': 'legacy'},\n",
    "  {'dataset': 'CHORUS_CC_NOTFIXED_PB_DW_NB-SIGMARED', 'frac': 0.75, 'variant': 'legacy'},\n",
    "  {'dataset': 'NUTEV_CC_NOTFIXED_FE_DW_NU-SIGMARED', 'cfac': ['MAS'], 'frac': 0.75, 'variant': 'legacy'},\n",
    "  {'dataset': 'NUTEV_CC_NOTFIXED_FE_DW_NB-SIGMARED', 'cfac': ['MAS'], 'frac': 0.75, 'variant': 'legacy'},\n",
    "  {'dataset': 'HERA_NC_318GEV_EM-SIGMARED', 'frac': 0.75, 'variant': 'legacy'},\n",
    "  {'dataset': 'HERA_NC_225GEV_EP-SIGMARED', 'frac': 0.75, 'variant': 'legacy'},\n",
    "  {'dataset': 'HERA_NC_251GEV_EP-SIGMARED', 'frac': 0.75, 'variant': 'legacy'},\n",
    "  {'dataset': 'HERA_NC_300GEV_EP-SIGMARED', 'frac': 0.75, 'variant': 'legacy'},\n",
    "  {'dataset': 'HERA_NC_318GEV_EP-SIGMARED', 'frac': 0.75, 'variant': 'legacy'},\n",
    "  {'dataset': 'HERA_CC_318GEV_EM-SIGMARED', 'frac': 0.75, 'variant': 'legacy'},\n",
    "  {'dataset': 'HERA_CC_318GEV_EP-SIGMARED', 'frac': 0.75, 'variant': 'legacy'},\n",
    "  {'dataset': 'HERA_NC_318GEV_EAVG_CHARM-SIGMARED', 'frac': 0.75, 'variant': 'legacy'},\n",
    "  {'dataset': 'HERA_NC_318GEV_EAVG_BOTTOM-SIGMARED', 'frac': 0.75, 'variant': 'legacy'},\n",
    "]\n",
    "\n",
    "# Dictionary for validphys API\n",
    "common_dict = dict(\n",
    "    dataset_inputs=dataset_inputs,\n",
    "    metadata_group=\"nnpdf31_process\",\n",
    "    use_cuts='internal',\n",
    "    datacuts={'q2min': 3.49, 'w2min': 12.5},\n",
    "    theoryid=40000000,\n",
    "    t0pdfset='NNPDF40_nnlo_as_01180',\n",
    "    use_t0=True\n",
    ")"
   ]
  },
  {
   "cell_type": "code",
   "execution_count": 8,
   "metadata": {},
   "outputs": [],
   "source": [
    "groups_data = API.procs_data(**common_dict)"
   ]
  },
  {
   "cell_type": "code",
   "execution_count": 12,
   "metadata": {},
   "outputs": [],
   "source": [
    "fk_table_dict = defaultdict(list)\n",
    "central_data_dict = {}\n",
    "padded_fk_dict = defaultdict(list)\n",
    "xgrid_masks_dict = defaultdict(list)\n",
    "\n",
    "total_ndata_wc = 0\n",
    "for idx_proc, group_proc in enumerate(groups_data):\n",
    "  for idx_exp, exp_set in enumerate(group_proc.datasets):\n",
    "  \n",
    "    dataset_name = exp_set.name\n",
    "    dataset_size = exp_set.load_commondata().ndata\n",
    "    total_ndata_wc += dataset_size\n",
    "\n",
    "    # Collect FKSpecs and cuts\n",
    "    fkspecs = exp_set.fkspecs\n",
    "    cuts = exp_set.cuts\n",
    "\n",
    "    # Read FKData and FK table in numpy version\n",
    "    fk_data = pineappl_reader(fkspecs[0]).with_cuts(cuts)\n",
    "    fk_table = fk_data.get_np_fktable()\n",
    "\n",
    "    # xgrid for this dataset\n",
    "    xgrid = fk_data.xgrid\n",
    "\n",
    "    # Check that XGRID is just a small-x extension\n",
    "    # of xgrid\n",
    "    res = True\n",
    "    for i, x in enumerate(xgrid):\n",
    "      offset = 50 - xgrid.size\n",
    "      try:\n",
    "        assert(np.isclose(x, XGRID[offset+i]))\n",
    "      except AssertionError:\n",
    "        print(f\"XGRID is not an extension for {dataset_name}.\")\n",
    "\n",
    "    # Load DIS object for padding the FK table\n",
    "    dis = DIS(\n",
    "      [fk_data],\n",
    "      [fk_table],\n",
    "      dataset_name,\n",
    "      None,\n",
    "      exp_set.op,\n",
    "      n_replicas=1,\n",
    "      name=f\"dat_{dataset_name}\"\n",
    "    )\n",
    "    \n",
    "    # Pad the fk table so that (N, x, 9) -> (N, x, 14)\n",
    "    mask = tf.cast(dis.masks[0], dtype=tf.float64)\n",
    "    padded_fk_table = dis.fktables[0]#dis.pad_fk(dis.fktables[0], mask)\n",
    "    padded_fk_dict[dataset_name] = dis.pad_fk(dis.fktables[0], mask)\n",
    "    \n",
    "    # Extend xgrid to low-x (N, x, 14) -> (N, 50, 14)\n",
    "    xgrid_mask = np.zeros(XGRID.size, dtype=bool)\n",
    "    offset = XGRID.size - xgrid.size\n",
    "    for i in range(xgrid.size):\n",
    "      xgrid_mask[offset + i] = True\n",
    "    xgrid_mask = tf.cast(compute_float_mask(xgrid_mask), dtype=tf.float64)\n",
    "    paddedx_fk_table = op.einsum('Xx, nFx -> nXF', xgrid_mask, padded_fk_table)\n",
    "    xgrid_masks_dict[dataset_name] = xgrid_mask\n",
    "    \n",
    "    "
   ]
  },
  {
   "cell_type": "code",
   "execution_count": 13,
   "metadata": {},
   "outputs": [
    {
     "data": {
      "text/plain": [
       "<tf.Tensor: shape=(50, 32), dtype=float64, numpy=\n",
       "array([[0., 0., 0., ..., 0., 0., 0.],\n",
       "       [0., 0., 0., ..., 0., 0., 0.],\n",
       "       [0., 0., 0., ..., 0., 0., 0.],\n",
       "       ...,\n",
       "       [0., 0., 0., ..., 1., 0., 0.],\n",
       "       [0., 0., 0., ..., 0., 1., 0.],\n",
       "       [0., 0., 0., ..., 0., 0., 1.]])>"
      ]
     },
     "execution_count": 13,
     "metadata": {},
     "output_type": "execute_result"
    }
   ],
   "source": [
    "xgrid_mask"
   ]
  },
  {
   "cell_type": "code",
   "execution_count": null,
   "metadata": {},
   "outputs": [],
   "source": []
  }
 ],
 "metadata": {
  "kernelspec": {
   "display_name": "nnpdf",
   "language": "python",
   "name": "python3"
  },
  "language_info": {
   "codemirror_mode": {
    "name": "ipython",
    "version": 3
   },
   "file_extension": ".py",
   "mimetype": "text/x-python",
   "name": "python",
   "nbconvert_exporter": "python",
   "pygments_lexer": "ipython3",
   "version": "3.10.15"
  }
 },
 "nbformat": 4,
 "nbformat_minor": 2
}
