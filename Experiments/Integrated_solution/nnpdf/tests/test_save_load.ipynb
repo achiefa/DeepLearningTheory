{
 "cells": [
  {
   "cell_type": "code",
   "execution_count": 1,
   "id": "47b1eb5f",
   "metadata": {},
   "outputs": [],
   "source": [
    "import sys\n",
    "sys.path.append('./lib')\n",
    "\n",
    "from pathlib import Path\n",
    "\n",
    "import numpy as np\n",
    "import pandas as pd\n",
    "\n",
    "from model import PDFmodel, generate_mse_loss"
   ]
  },
  {
   "cell_type": "code",
   "execution_count": 2,
   "id": "85dea085",
   "metadata": {},
   "outputs": [],
   "source": [
    "seed = 1231\n",
    "np.random.seed(seed)"
   ]
  },
  {
   "cell_type": "code",
   "execution_count": 3,
   "id": "43a0b49b",
   "metadata": {},
   "outputs": [],
   "source": [
    "SAVE_DIR = Path('./test_results/model')\n",
    "SAVE_DIR.mkdir(parents=True, exist_ok=True)"
   ]
  },
  {
   "cell_type": "code",
   "execution_count": 4,
   "id": "124cb30e",
   "metadata": {},
   "outputs": [],
   "source": [
    "# Collect Tommaso's data\n",
    "fk_grid = np.load('Tommaso/fk_grid.npy')\n",
    "data = np.load('Tommaso/data.npy')\n",
    "FK = np.load('Tommaso/FK.npy')\n",
    "f_bcdms = np.load('Tommaso/f_bcdms.npy')\n",
    "Cy = np.load('Tommaso/Cy.npy')\n",
    "#noise = np.load('Tommaso/L1_noise_BCDMS.npy')"
   ]
  },
  {
   "cell_type": "code",
   "execution_count": 5,
   "id": "f17ae8cf",
   "metadata": {},
   "outputs": [],
   "source": [
    "# Prepare index for covariance matrix\n",
    "arrays = [\n",
    "  ['T3' for _ in range(Cy.shape[0])],\n",
    "  ['BCDMS' for _ in range(Cy.shape[0])],\n",
    "  ]\n",
    "multi_index = pd.MultiIndex.from_arrays(arrays, names=('group', 'dataset'))\n",
    "Cinv = pd.DataFrame(np.linalg.inv(Cy), index=multi_index, columns=multi_index)\n",
    "y = FK @ f_bcdms # L1 data"
   ]
  },
  {
   "cell_type": "code",
   "execution_count": 6,
   "id": "347daf5b",
   "metadata": {},
   "outputs": [
    {
     "data": {
      "text/html": [
       "<pre style=\"white-space:pre;overflow-x:auto;line-height:normal;font-family:Menlo,'DejaVu Sans Mono',consolas,'Courier New',monospace\"><span style=\"font-weight: bold\">Model: \"sequential\"</span>\n",
       "</pre>\n"
      ],
      "text/plain": [
       "\u001b[1mModel: \"sequential\"\u001b[0m\n"
      ]
     },
     "metadata": {},
     "output_type": "display_data"
    },
    {
     "data": {
      "text/html": [
       "<pre style=\"white-space:pre;overflow-x:auto;line-height:normal;font-family:Menlo,'DejaVu Sans Mono',consolas,'Courier New',monospace\">┏━━━━━━━━━━━━━━━━━━━━━━━━━━━━━━━━━┳━━━━━━━━━━━━━━━━━━━━━━━━┳━━━━━━━━━━━━━━━┓\n",
       "┃<span style=\"font-weight: bold\"> Layer (type)                    </span>┃<span style=\"font-weight: bold\"> Output Shape           </span>┃<span style=\"font-weight: bold\">       Param # </span>┃\n",
       "┡━━━━━━━━━━━━━━━━━━━━━━━━━━━━━━━━━╇━━━━━━━━━━━━━━━━━━━━━━━━╇━━━━━━━━━━━━━━━┩\n",
       "│ deep_layer_0 (<span style=\"color: #0087ff; text-decoration-color: #0087ff\">Dense</span>)            │ (<span style=\"color: #00d7ff; text-decoration-color: #00d7ff\">None</span>, <span style=\"color: #00af00; text-decoration-color: #00af00\">50</span>, <span style=\"color: #00af00; text-decoration-color: #00af00\">28</span>)         │            <span style=\"color: #00af00; text-decoration-color: #00af00\">56</span> │\n",
       "├─────────────────────────────────┼────────────────────────┼───────────────┤\n",
       "│ deep_layer_1 (<span style=\"color: #0087ff; text-decoration-color: #0087ff\">Dense</span>)            │ (<span style=\"color: #00d7ff; text-decoration-color: #00d7ff\">None</span>, <span style=\"color: #00af00; text-decoration-color: #00af00\">50</span>, <span style=\"color: #00af00; text-decoration-color: #00af00\">25</span>)         │           <span style=\"color: #00af00; text-decoration-color: #00af00\">725</span> │\n",
       "├─────────────────────────────────┼────────────────────────┼───────────────┤\n",
       "│ output_layer (<span style=\"color: #0087ff; text-decoration-color: #0087ff\">Dense</span>)            │ (<span style=\"color: #00d7ff; text-decoration-color: #00d7ff\">None</span>, <span style=\"color: #00af00; text-decoration-color: #00af00\">50</span>, <span style=\"color: #00af00; text-decoration-color: #00af00\">1</span>)          │            <span style=\"color: #00af00; text-decoration-color: #00af00\">26</span> │\n",
       "└─────────────────────────────────┴────────────────────────┴───────────────┘\n",
       "</pre>\n"
      ],
      "text/plain": [
       "┏━━━━━━━━━━━━━━━━━━━━━━━━━━━━━━━━━┳━━━━━━━━━━━━━━━━━━━━━━━━┳━━━━━━━━━━━━━━━┓\n",
       "┃\u001b[1m \u001b[0m\u001b[1mLayer (type)                   \u001b[0m\u001b[1m \u001b[0m┃\u001b[1m \u001b[0m\u001b[1mOutput Shape          \u001b[0m\u001b[1m \u001b[0m┃\u001b[1m \u001b[0m\u001b[1m      Param #\u001b[0m\u001b[1m \u001b[0m┃\n",
       "┡━━━━━━━━━━━━━━━━━━━━━━━━━━━━━━━━━╇━━━━━━━━━━━━━━━━━━━━━━━━╇━━━━━━━━━━━━━━━┩\n",
       "│ deep_layer_0 (\u001b[38;5;33mDense\u001b[0m)            │ (\u001b[38;5;45mNone\u001b[0m, \u001b[38;5;34m50\u001b[0m, \u001b[38;5;34m28\u001b[0m)         │            \u001b[38;5;34m56\u001b[0m │\n",
       "├─────────────────────────────────┼────────────────────────┼───────────────┤\n",
       "│ deep_layer_1 (\u001b[38;5;33mDense\u001b[0m)            │ (\u001b[38;5;45mNone\u001b[0m, \u001b[38;5;34m50\u001b[0m, \u001b[38;5;34m25\u001b[0m)         │           \u001b[38;5;34m725\u001b[0m │\n",
       "├─────────────────────────────────┼────────────────────────┼───────────────┤\n",
       "│ output_layer (\u001b[38;5;33mDense\u001b[0m)            │ (\u001b[38;5;45mNone\u001b[0m, \u001b[38;5;34m50\u001b[0m, \u001b[38;5;34m1\u001b[0m)          │            \u001b[38;5;34m26\u001b[0m │\n",
       "└─────────────────────────────────┴────────────────────────┴───────────────┘\n"
      ]
     },
     "metadata": {},
     "output_type": "display_data"
    },
    {
     "data": {
      "text/html": [
       "<pre style=\"white-space:pre;overflow-x:auto;line-height:normal;font-family:Menlo,'DejaVu Sans Mono',consolas,'Courier New',monospace\"><span style=\"font-weight: bold\"> Total params: </span><span style=\"color: #00af00; text-decoration-color: #00af00\">807</span> (3.15 KB)\n",
       "</pre>\n"
      ],
      "text/plain": [
       "\u001b[1m Total params: \u001b[0m\u001b[38;5;34m807\u001b[0m (3.15 KB)\n"
      ]
     },
     "metadata": {},
     "output_type": "display_data"
    },
    {
     "data": {
      "text/html": [
       "<pre style=\"white-space:pre;overflow-x:auto;line-height:normal;font-family:Menlo,'DejaVu Sans Mono',consolas,'Courier New',monospace\"><span style=\"font-weight: bold\"> Trainable params: </span><span style=\"color: #00af00; text-decoration-color: #00af00\">807</span> (3.15 KB)\n",
       "</pre>\n"
      ],
      "text/plain": [
       "\u001b[1m Trainable params: \u001b[0m\u001b[38;5;34m807\u001b[0m (3.15 KB)\n"
      ]
     },
     "metadata": {},
     "output_type": "display_data"
    },
    {
     "data": {
      "text/html": [
       "<pre style=\"white-space:pre;overflow-x:auto;line-height:normal;font-family:Menlo,'DejaVu Sans Mono',consolas,'Courier New',monospace\"><span style=\"font-weight: bold\"> Non-trainable params: </span><span style=\"color: #00af00; text-decoration-color: #00af00\">0</span> (0.00 B)\n",
       "</pre>\n"
      ],
      "text/plain": [
       "\u001b[1m Non-trainable params: \u001b[0m\u001b[38;5;34m0\u001b[0m (0.00 B)\n"
      ]
     },
     "metadata": {},
     "output_type": "display_data"
    },
    {
     "name": "stdout",
     "output_type": "stream",
     "text": [
      "Maximum number of iterations reached.\n"
     ]
    }
   ],
   "source": [
    "# ========== Model ==========\n",
    "mse_loss = generate_mse_loss(Cinv)\n",
    "pdf = PDFmodel(\n",
    "                dense_layer='Dense',\n",
    "                input=fk_grid,\n",
    "                outputs=1,\n",
    "                architecture=[28, 25],\n",
    "                activations=['tanh', 'tanh'],\n",
    "                kernel_initializer='GlorotNormal',\n",
    "                user_ki_args=None,\n",
    "                seed=seed,)\n",
    "pdf.model.summary()\n",
    "\n",
    "central_data_dict = {'BCDMS': y}\n",
    "fk_dict = {'BCDMS': FK}\n",
    "\n",
    "predictions_0 = pdf.predict()\n",
    "\n",
    "# ========== Training ==========\n",
    "pdf.train_network_gd(data=central_data_dict,\n",
    "                      FK_dict=fk_dict,\n",
    "                      loss_func=mse_loss,\n",
    "                      learning_rate=1e-3,\n",
    "                      tol=0.0,\n",
    "                      logging=True,\n",
    "                      callback=True,\n",
    "                      max_epochs=10,\n",
    "                      log_fr=5,\n",
    "                      savedir=SAVE_DIR,\n",
    "                      optimizer='Adam')"
   ]
  },
  {
   "cell_type": "code",
   "execution_count": 7,
   "id": "0ed0a40f",
   "metadata": {},
   "outputs": [],
   "source": [
    "# Compute predictions after training\n",
    "predictions = pdf.predict().numpy().reshape(-1)"
   ]
  },
  {
   "cell_type": "code",
   "execution_count": 8,
   "id": "ea76f464",
   "metadata": {},
   "outputs": [],
   "source": [
    "model_end = PDFmodel.load_model(config_path=str(SAVE_DIR / 'config.json'),\n",
    "                                         weights_path=str(SAVE_DIR / 'epoch_11.weights.h5'))\n",
    "model_init = PDFmodel.load_model(config_path=str(SAVE_DIR / 'config.json'),\n",
    "                                 weights_path=str(SAVE_DIR / 'epoch_0.weights.h5'))"
   ]
  },
  {
   "cell_type": "code",
   "execution_count": 9,
   "id": "dd7d9e02",
   "metadata": {},
   "outputs": [],
   "source": [
    "# Check predictions are the same at initialization\n",
    "predictions_loaded_init = model_init(fk_grid).numpy().reshape(-1)\n",
    "assert(np.allclose(predictions_loaded_init, predictions_0.numpy().reshape(-1)))"
   ]
  },
  {
   "cell_type": "code",
   "execution_count": 10,
   "id": "90679d31",
   "metadata": {},
   "outputs": [],
   "source": [
    "# Check predictions are the same at the end of training\n",
    "predictions_loaded_end = model_end(fk_grid).numpy().reshape(-1)\n",
    "assert(np.allclose(predictions_loaded_end, predictions.reshape(-1)))"
   ]
  },
  {
   "cell_type": "code",
   "execution_count": 11,
   "id": "75bcbf0e",
   "metadata": {},
   "outputs": [],
   "source": [
    "# Check weights are the same\n",
    "weights = pdf.model.get_weights()\n",
    "weights_loaded = model_end.model.get_weights()\n",
    "\n",
    "assert(len(weights) == len(weights_loaded))\n",
    "\n",
    "for i in range(len(weights)):\n",
    "    assert(np.allclose(weights[i], weights_loaded[i]))"
   ]
  },
  {
   "cell_type": "code",
   "execution_count": 16,
   "id": "a0f7c303",
   "metadata": {},
   "outputs": [
    {
     "name": "stdout",
     "output_type": "stream",
     "text": [
      "WARNING:tensorflow:5 out of the last 5 calls to <function pfor.<locals>.f at 0x2a7033d00> triggered tf.function retracing. Tracing is expensive and the excessive number of tracings could be due to (1) creating @tf.function repeatedly in a loop, (2) passing tensors with different shapes, (3) passing Python objects instead of tensors. For (1), please define your @tf.function outside of the loop. For (2), @tf.function has reduce_retracing=True option that can avoid unnecessary retracing. For (3), please refer to https://www.tensorflow.org/guide/function#controlling_retracing and https://www.tensorflow.org/api_docs/python/tf/function for  more details.\n",
      "WARNING:tensorflow:6 out of the last 6 calls to <function pfor.<locals>.f at 0x2a62b7370> triggered tf.function retracing. Tracing is expensive and the excessive number of tracings could be due to (1) creating @tf.function repeatedly in a loop, (2) passing tensors with different shapes, (3) passing Python objects instead of tensors. For (1), please define your @tf.function outside of the loop. For (2), @tf.function has reduce_retracing=True option that can avoid unnecessary retracing. For (3), please refer to https://www.tensorflow.org/guide/function#controlling_retracing and https://www.tensorflow.org/api_docs/python/tf/function for  more details.\n"
     ]
    }
   ],
   "source": [
    "# Compute the NTK\n",
    "ntk = pdf.compute_ntk()\n",
    "ntk_loaded = model_end.compute_ntk()\n",
    "assert(np.allclose(ntk, ntk_loaded))"
   ]
  }
 ],
 "metadata": {
  "kernelspec": {
   "display_name": "nnpdf",
   "language": "python",
   "name": "python3"
  },
  "language_info": {
   "codemirror_mode": {
    "name": "ipython",
    "version": 3
   },
   "file_extension": ".py",
   "mimetype": "text/x-python",
   "name": "python",
   "nbconvert_exporter": "python",
   "pygments_lexer": "ipython3",
   "version": "3.10.15"
  }
 },
 "nbformat": 4,
 "nbformat_minor": 5
}
