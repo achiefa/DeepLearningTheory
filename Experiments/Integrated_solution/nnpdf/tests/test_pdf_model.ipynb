{
 "cells": [
  {
   "cell_type": "code",
   "execution_count": 1,
   "metadata": {},
   "outputs": [
    {
     "name": "stdout",
     "output_type": "stream",
     "text": [
      "Using Keras backend\n"
     ]
    }
   ],
   "source": [
    "import sys\n",
    "\n",
    "# Add the path to the library folder\n",
    "sys.path.append('../lib')\n",
    "\n",
    "from utils import XGRID\n",
    "from model import PDFmodel, generate_mse_loss\n",
    "from gen_dicts import generate_dicts\n",
    "from validphys.api import API\n",
    "\n",
    "import numpy as np\n",
    "import pandas as pd"
   ]
  },
  {
   "cell_type": "code",
   "execution_count": 2,
   "metadata": {},
   "outputs": [],
   "source": [
    "pdf = PDFmodel(input=XGRID,\n",
    "               outputs=9,\n",
    "               architecture=[25,28],\n",
    "               activations=['tanh', 'tanh'],\n",
    "               kernel_initializer='RandomNormal',\n",
    "               user_ki_args={'mean': 0.0, 'stddev': 1.0},\n",
    "               seed=1)"
   ]
  },
  {
   "cell_type": "code",
   "execution_count": 3,
   "metadata": {},
   "outputs": [],
   "source": [
    "# List of DIS dataset\n",
    "dataset_inputs = [\n",
    "  #{'dataset': 'NMC_NC_NOTFIXED_DW_EM-F2', 'frac': 0.75, 'variant': 'legacy'},\n",
    "  {'dataset': 'NMC_NC_NOTFIXED_P_EM-SIGMARED', 'frac': 0.75, 'variant': 'legacy'},\n",
    "  {'dataset': 'SLAC_NC_NOTFIXED_P_DW_EM-F2', 'frac': 0.75, 'variant': 'legacy'},\n",
    "  {'dataset': 'SLAC_NC_NOTFIXED_D_DW_EM-F2', 'frac': 0.75, 'variant': 'legacy'},\n",
    "  {'dataset': 'BCDMS_NC_NOTFIXED_P_DW_EM-F2', 'frac': 0.75, 'variant': 'legacy'},\n",
    "  #{'dataset': 'BCDMS_NC_NOTFIXED_D_DW_EM-F2', 'frac': 0.75, 'variant': 'legacy'},\n",
    "  #{'dataset': 'CHORUS_CC_NOTFIXED_PB_DW_NU-SIGMARED', 'frac': 0.75, 'variant': 'legacy'},\n",
    "  #{'dataset': 'CHORUS_CC_NOTFIXED_PB_DW_NB-SIGMARED', 'frac': 0.75, 'variant': 'legacy'},\n",
    "  #{'dataset': 'NUTEV_CC_NOTFIXED_FE_DW_NU-SIGMARED', 'cfac': ['MAS'], 'frac': 0.75, 'variant': 'legacy'},\n",
    "  #{'dataset': 'NUTEV_CC_NOTFIXED_FE_DW_NB-SIGMARED', 'cfac': ['MAS'], 'frac': 0.75, 'variant': 'legacy'},\n",
    "  #{'dataset': 'HERA_NC_318GEV_EM-SIGMARED', 'frac': 0.75, 'variant': 'legacy'},\n",
    "  #{'dataset': 'HERA_NC_225GEV_EP-SIGMARED', 'frac': 0.75, 'variant': 'legacy'},\n",
    "  #{'dataset': 'HERA_NC_251GEV_EP-SIGMARED', 'frac': 0.75, 'variant': 'legacy'},\n",
    "  #{'dataset': 'HERA_NC_300GEV_EP-SIGMARED', 'frac': 0.75, 'variant': 'legacy'},\n",
    "  #{'dataset': 'HERA_NC_318GEV_EP-SIGMARED', 'frac': 0.75, 'variant': 'legacy'},\n",
    "  #{'dataset': 'HERA_CC_318GEV_EM-SIGMARED', 'frac': 0.75, 'variant': 'legacy'},\n",
    "  #{'dataset': 'HERA_CC_318GEV_EP-SIGMARED', 'frac': 0.75, 'variant': 'legacy'},\n",
    "  #{'dataset': 'HERA_NC_318GEV_EAVG_CHARM-SIGMARED', 'frac': 0.75, 'variant': 'legacy'},\n",
    "  #{'dataset': 'HERA_NC_318GEV_EAVG_BOTTOM-SIGMARED', 'frac': 0.75, 'variant': 'legacy'},\n",
    "]\n",
    "\n",
    "# Dictionary for validphys API\n",
    "common_dict = dict(\n",
    "    dataset_inputs=dataset_inputs,\n",
    "    metadata_group=\"nnpdf31_process\",\n",
    "    use_cuts='internal',\n",
    "    datacuts={'q2min': 3.49, 'w2min': 12.5},\n",
    "    theoryid=40000000,\n",
    "    t0pdfset='NNPDF40_nnlo_as_01180',\n",
    "    use_t0=True\n",
    ")"
   ]
  },
  {
   "cell_type": "code",
   "execution_count": 4,
   "metadata": {},
   "outputs": [],
   "source": [
    "groups_data = API.procs_data(**common_dict)\n",
    "tuple_of_dicts = generate_dicts(groups_data)\n",
    "fk_table_dict = tuple_of_dicts.fk_tables\n",
    "central_data_dict = tuple_of_dicts.central_data"
   ]
  },
  {
   "cell_type": "code",
   "execution_count": 5,
   "metadata": {},
   "outputs": [
    {
     "name": "stdout",
     "output_type": "stream",
     "text": [
      "LHAPDF 6.5.4 loading /opt/homebrew/Caskroom/miniconda/base/envs/nnpdf/share/LHAPDF/NNPDF40_nnlo_as_01180/NNPDF40_nnlo_as_01180_0000.dat\n",
      "NNPDF40_nnlo_as_01180 PDF set, member #0, version 1; LHAPDF ID = 331100\n"
     ]
    }
   ],
   "source": [
    "C_sys = API.dataset_inputs_t0_covmat_from_systematics(**common_dict)\n",
    "C = API.groups_covmat_no_table(**common_dict)\n",
    "C_index = C.index\n",
    "C_col = C.columns\n",
    "Cinv = np.linalg.inv(C)\n",
    "Cinv = pd.DataFrame(Cinv, index=C_index, columns=C_col)"
   ]
  },
  {
   "cell_type": "code",
   "execution_count": 6,
   "metadata": {},
   "outputs": [],
   "source": [
    "mse_loss = generate_mse_loss(Cinv)"
   ]
  },
  {
   "cell_type": "code",
   "execution_count": 7,
   "metadata": {},
   "outputs": [
    {
     "name": "stdout",
     "output_type": "stream",
     "text": [
      "------------------------\n",
      "Step 0, Loss: 12250.6171875, Loss/Ndat: 20.281456953642383, Rel. loss: 0.0\n",
      "------------------------\n",
      "Step 100, Loss: 7079.9404296875, Loss/Ndat: 11.72019867549669, Rel. loss: 0.001643464551307261\n",
      "------------------------\n",
      "Step 200, Loss: 6069.31201171875, Loss/Ndat: 10.048013245033113, Rel. loss: 0.0014365552924573421\n",
      "------------------------\n",
      "Step 300, Loss: 5309.70263671875, Loss/Ndat: 8.789735099337749, Rel. loss: 0.001238914206624031\n",
      "------------------------\n",
      "Step 400, Loss: 4733.52392578125, Loss/Ndat: 7.836092715231788, Rel. loss: 0.0010602247202768922\n",
      "------------------------\n",
      "Step 500, Loss: 4291.703125, Loss/Ndat: 7.104304635761589, Rel. loss: 0.0009032261441461742\n",
      "------------------------\n",
      "Step 600, Loss: 3948.98779296875, Loss/Ndat: 6.5364238410596025, Rel. loss: 0.000767506833653897\n",
      "------------------------\n",
      "Step 700, Loss: 3680.000732421875, Loss/Ndat: 6.0927152317880795, Rel. loss: 0.000648343178909272\n",
      "------------------------\n",
      "Step 800, Loss: 3466.388427734375, Loss/Ndat: 5.73841059602649, Rel. loss: 0.0005506770103238523\n",
      "------------------------\n",
      "Step 900, Loss: 3294.7783203125, Loss/Ndat: 5.453642384105961, Rel. loss: 0.00046786601888015866\n",
      "------------------------\n",
      "Step 1000, Loss: 3155.31005859375, Loss/Ndat: 5.223509933774834, Rel. loss: 0.0003987839736510068\n",
      "------------------------\n",
      "Step 1100, Loss: 3040.65966796875, Loss/Ndat: 5.033112582781457, Rel. loss: 0.00034184669493697584\n",
      "------------------------\n",
      "Step 1200, Loss: 2945.33203125, Loss/Ndat: 4.875827814569536, Rel. loss: 0.0002974890812765807\n",
      "------------------------\n",
      "Step 1300, Loss: 2865.16650390625, Loss/Ndat: 4.743377483443709, Rel. loss: 0.00025811942759901285\n",
      "------------------------\n",
      "Step 1400, Loss: 2796.99365234375, Loss/Ndat: 4.629139072847682, Rel. loss: 0.00022514924057759345\n",
      "------------------------\n",
      "Step 1500, Loss: 2738.36376953125, Loss/Ndat: 4.533112582781457, Rel. loss: 0.0001996687933569774\n",
      "------------------------\n",
      "Step 1600, Loss: 2687.3984375, Loss/Ndat: 4.448675496688741, Rel. loss: 0.0001782089821062982\n",
      "------------------------\n",
      "Step 1700, Loss: 2642.62939453125, Loss/Ndat: 4.374172185430464, Rel. loss: 0.00015989372332114726\n",
      "------------------------\n",
      "Step 1800, Loss: 2602.90673828125, Loss/Ndat: 4.30794701986755, Rel. loss: 0.00014573677617590874\n",
      "------------------------\n",
      "Step 1900, Loss: 2567.33203125, Loss/Ndat: 4.25, Rel. loss: 0.00012997807061765343\n",
      "------------------------\n",
      "Step 2000, Loss: 2535.1796875, Loss/Ndat: 4.197019867549669, Rel. loss: 0.00012286512355785817\n",
      "------------------------\n",
      "Step 2100, Loss: 2505.89892578125, Loss/Ndat: 4.147350993377484, Rel. loss: 0.00011202776659047231\n",
      "------------------------\n",
      "Step 2200, Loss: 2479.0166015625, Loss/Ndat: 4.104304635761589, Rel. loss: 0.00010398707672720775\n"
     ]
    }
   ],
   "source": [
    "model_time, steps = pdf.train_network_gd(data=central_data_dict,\n",
    "                                         FK_dict=fk_table_dict,\n",
    "                                         loss_func=mse_loss,\n",
    "                                         learning_rate=1.e-7,\n",
    "                                         tol=1e-4,\n",
    "                                         logging=True,\n",
    "                                         callback=True)"
   ]
  },
  {
   "cell_type": "code",
   "execution_count": 8,
   "metadata": {},
   "outputs": [
    {
     "data": {
      "text/plain": [
       "[0,\n",
       " 100,\n",
       " 200,\n",
       " 300,\n",
       " 400,\n",
       " 500,\n",
       " 600,\n",
       " 700,\n",
       " 800,\n",
       " 900,\n",
       " 1000,\n",
       " 1100,\n",
       " 1200,\n",
       " 1300,\n",
       " 1400,\n",
       " 1500,\n",
       " 1600,\n",
       " 1700,\n",
       " 1800,\n",
       " 1900,\n",
       " 2000,\n",
       " 2100,\n",
       " 2200]"
      ]
     },
     "execution_count": 8,
     "metadata": {},
     "output_type": "execute_result"
    }
   ],
   "source": [
    "steps"
   ]
  },
  {
   "cell_type": "code",
   "execution_count": 9,
   "metadata": {},
   "outputs": [
    {
     "data": {
      "text/plain": [
       "array([[ 0.1266503 , -0.49301657,  0.6311907 , -0.78884655,  0.5683089 ,\n",
       "        -1.5569937 , -1.4428717 ,  0.24223132, -2.2694967 ,  1.022747  ,\n",
       "         0.5021713 , -3.8967683 ,  1.1691167 ,  0.1790239 ,  0.26565596,\n",
       "        -0.3088571 ,  1.8476253 , -0.98034793,  1.9315791 , -1.6846664 ,\n",
       "         1.0996997 , -0.73108566,  0.29095498, -0.9118021 , -1.0787293 ]],\n",
       "      dtype=float32)"
      ]
     },
     "execution_count": 9,
     "metadata": {},
     "output_type": "execute_result"
    }
   ],
   "source": [
    "model_time[0].model.get_weights()[0]"
   ]
  },
  {
   "cell_type": "code",
   "execution_count": 10,
   "metadata": {},
   "outputs": [
    {
     "data": {
      "text/plain": [
       "array([[ 0.09980545, -0.5122845 ,  0.65964717, -0.8187674 ,  0.56427646,\n",
       "        -1.5603572 , -1.4334155 ,  0.28030187, -2.2742856 ,  1.0333611 ,\n",
       "         0.50575095, -3.8933487 ,  1.1727369 ,  0.17485273,  0.26311854,\n",
       "        -0.36162862,  1.8467122 , -0.97337204,  1.9243493 , -1.6897615 ,\n",
       "         1.085749  , -0.7213313 ,  0.28556693, -0.90641505, -1.0773374 ]],\n",
       "      dtype=float32)"
      ]
     },
     "execution_count": 10,
     "metadata": {},
     "output_type": "execute_result"
    }
   ],
   "source": [
    "model_time[3].model.get_weights()[0]"
   ]
  }
 ],
 "metadata": {
  "kernelspec": {
   "display_name": "nnpdf",
   "language": "python",
   "name": "python3"
  },
  "language_info": {
   "codemirror_mode": {
    "name": "ipython",
    "version": 3
   },
   "file_extension": ".py",
   "mimetype": "text/x-python",
   "name": "python",
   "nbconvert_exporter": "python",
   "pygments_lexer": "ipython3",
   "version": "3.10.15"
  }
 },
 "nbformat": 4,
 "nbformat_minor": 2
}
